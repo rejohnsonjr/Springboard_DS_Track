{
 "cells": [
  {
   "cell_type": "markdown",
   "metadata": {},
   "source": [
    "## A Movie Recommender System"
   ]
  },
  {
   "cell_type": "markdown",
   "metadata": {},
   "source": [
    "## Author:\n",
    "### Robert Johnson"
   ]
  },
  {
   "cell_type": "markdown",
   "metadata": {},
   "source": [
    "## Introduction \n",
    "\n",
    "### Movies, also known as films, are a type of visual comminication, which uses moving pictures and sounds to tell stories. The cinema, the entertainment industry has been a promininent factor by continuously influencing and defining our lives through producing movies that cater to us during different age groups. We remember growing up watching animated, Disney, movies, such as Lion King, during our childhood, to watching movies as teenagers, such as Harry Potter, to your 20's, such as Dark Knight. Despite your career path, friend circle, race, religion, age, one of the common themes everyone could come together and talk about is movies- it is hard to miss. While discussing ideas about what we would be interested in researching for this project, the topic of movies was brought up by Esmond. We immediately agreed on the topic because we started reminiscing about the 80's, 90's, 20's, and all the different movie eras. Enjoying our conversation and thinking about our fond memories of growing up around watching movies with friends and families, we knew movies was the topic we would want to focus on. "
   ]
  },
  {
   "cell_type": "markdown",
   "metadata": {},
   "source": [
    "## Objective\n",
    "\n",
    "### The objective of this project is to build a movie recommender system. We are building a movie recommendation system to help recommend movies on interests to the customers based on how they have rated the movies they have watched in our data set.\n"
   ]
  },
  {
   "cell_type": "markdown",
   "metadata": {},
   "source": [
    "## Stakeholder\n",
    "\n",
    "### Growing up in an era of technology, it is impossible to ignore the technological advances made in every single industry, including entertainment. We went from an age where you could only watch movies in theaters, to renting movies from companies like blockbuster, to being able to watch movies avialable 24/7 with the help of companies like Netflix. Netflix, found in 1997 went from being the world's first online DVD rental system, to almost selling the entire business to Blockbuster, at the time, to, now, claiming 44% of the total online movie business. We would imagine a company, such as Netflix, being the stakeholder for our project. Our movie recommendation system would be of interest to Netflix, because it would be able to recommend movies to its user in a unique manner using our algorithm."
   ]
  },
  {
   "cell_type": "markdown",
   "metadata": {},
   "source": [
    "## Background Research\n",
    "\n",
    "### MovieLens provides a movie recommender system for users, but without providing the method behind. There are couple of short tutorials build recommender system using MovieLens dataset, so far from what we have explored, none of them develop such system using a scoring system and our scoring system is unique and 100% original from the authors of this report"
   ]
  },
  {
   "cell_type": "markdown",
   "metadata": {},
   "source": [
    "## Data Selection\n",
    "\n",
    "### For this project, we wanted to find a data set which provided us with plenty of observations and multiple variables. After a lot of research we came across a data set from MovieLens. This data set fit the criteria our criteria of providing us with 100,000+ observations, and 6 variables. This data set was collected over a period of time, you can notice the movies that are rated in this data set range from the mid 1900's to early 2000's, providing us with a variety of movies for us to do analysis on."
   ]
  },
  {
   "cell_type": "code",
   "execution_count": 1,
   "metadata": {},
   "outputs": [],
   "source": [
    "import numpy as np\n",
    "import math\n",
    "import pandas as pd\n",
    "import os, time, re\n",
    "import pickle, gzip, datetime\n",
    "import matplotlib.pyplot as plt\n",
    "import seaborn as sns\n",
    "color = sns.color_palette()\n",
    "import matplotlib as mpl\n",
    "import glob\n",
    "os.getcwd()\n",
    "%matplotlib inline"
   ]
  },
  {
   "cell_type": "code",
   "execution_count": 2,
   "metadata": {},
   "outputs": [],
   "source": [
    "#data prep and model evaluation\n",
    "\n",
    "from sklearn import preprocessing as pp\n",
    "from sklearn.model_selection import train_test_split\n",
    "from sklearn.model_selection import StratifiedKFold\n",
    "from sklearn.metrics import log_loss\n",
    "from sklearn.decomposition import FactorAnalysis\n",
    "from sklearn.metrics import precision_recall_curve, average_precision_score\n",
    "from sklearn.metrics import roc_curve, auc, roc_auc_score, mean_squared_error\n",
    "import lightgbm as lgb\n",
    "import time"
   ]
  },
  {
   "cell_type": "code",
   "execution_count": 3,
   "metadata": {},
   "outputs": [
    {
     "name": "stdout",
     "output_type": "stream",
     "text": [
      "WARNING:tensorflow:From C:\\Users\\Robert\\AppData\\Roaming\\Python\\Python38\\site-packages\\tensorflow\\python\\compat\\v2_compat.py:96: disable_resource_variables (from tensorflow.python.ops.variable_scope) is deprecated and will be removed in a future version.\n",
      "Instructions for updating:\n",
      "non-resource variables are not supported in the long term\n"
     ]
    }
   ],
   "source": [
    "#TensorFlow and Keras\n",
    "\n",
    "import tensorflow as tf\n",
    "import keras\n",
    "import scipy\n",
    "from keras import backend as K\n",
    "from keras.models import Sequential, Model\n",
    "from keras.layers import Activation, Dense, Dropout\n",
    "from keras.layers import BatchNormalization, Input, Lambda, Embedding, Flatten\n",
    "from keras import regularizers\n",
    "from keras.losses import mse, binary_crossentropy\n",
    "import tensorflow.compat.v1 as tf\n",
    "from scipy.sparse.linalg import svds\n",
    "tf.disable_v2_behavior()"
   ]
  },
  {
   "cell_type": "code",
   "execution_count": 4,
   "metadata": {},
   "outputs": [],
   "source": [
    "from sklearn.model_selection import train_test_split\n",
    "from sklearn import datasets\n",
    "from sklearn import svm\n",
    "from sklearn.model_selection import cross_val_score\n",
    "import sklearn"
   ]
  },
  {
   "cell_type": "markdown",
   "metadata": {},
   "source": [
    "## I am adding the csv file"
   ]
  },
  {
   "cell_type": "code",
   "execution_count": 5,
   "metadata": {},
   "outputs": [
    {
     "data": {
      "text/html": [
       "<div>\n",
       "<style scoped>\n",
       "    .dataframe tbody tr th:only-of-type {\n",
       "        vertical-align: middle;\n",
       "    }\n",
       "\n",
       "    .dataframe tbody tr th {\n",
       "        vertical-align: top;\n",
       "    }\n",
       "\n",
       "    .dataframe thead th {\n",
       "        text-align: right;\n",
       "    }\n",
       "</style>\n",
       "<table border=\"1\" class=\"dataframe\">\n",
       "  <thead>\n",
       "    <tr style=\"text-align: right;\">\n",
       "      <th></th>\n",
       "      <th>userId</th>\n",
       "      <th>movieId</th>\n",
       "      <th>rating</th>\n",
       "      <th>timestamp</th>\n",
       "    </tr>\n",
       "  </thead>\n",
       "  <tbody>\n",
       "    <tr>\n",
       "      <th>0</th>\n",
       "      <td>1</td>\n",
       "      <td>2</td>\n",
       "      <td>3.5</td>\n",
       "      <td>1112486027</td>\n",
       "    </tr>\n",
       "    <tr>\n",
       "      <th>1</th>\n",
       "      <td>1</td>\n",
       "      <td>29</td>\n",
       "      <td>3.5</td>\n",
       "      <td>1112484676</td>\n",
       "    </tr>\n",
       "    <tr>\n",
       "      <th>2</th>\n",
       "      <td>1</td>\n",
       "      <td>32</td>\n",
       "      <td>3.5</td>\n",
       "      <td>1112484819</td>\n",
       "    </tr>\n",
       "    <tr>\n",
       "      <th>3</th>\n",
       "      <td>1</td>\n",
       "      <td>47</td>\n",
       "      <td>3.5</td>\n",
       "      <td>1112484727</td>\n",
       "    </tr>\n",
       "    <tr>\n",
       "      <th>4</th>\n",
       "      <td>1</td>\n",
       "      <td>50</td>\n",
       "      <td>3.5</td>\n",
       "      <td>1112484580</td>\n",
       "    </tr>\n",
       "  </tbody>\n",
       "</table>\n",
       "</div>"
      ],
      "text/plain": [
       "   userId  movieId  rating   timestamp\n",
       "0       1        2     3.5  1112486027\n",
       "1       1       29     3.5  1112484676\n",
       "2       1       32     3.5  1112484819\n",
       "3       1       47     3.5  1112484727\n",
       "4       1       50     3.5  1112484580"
      ]
     },
     "execution_count": 5,
     "metadata": {},
     "output_type": "execute_result"
    }
   ],
   "source": [
    "current_path = os.getcwd()\n",
    "file = \"C:/Users/Robert/Desktop/Ml-20/ml-20m/ratings.csv\"\n",
    "\n",
    "ratings_data = pd.read_csv(\"C:/Users/Robert/Desktop/Ml-20/ml-20m/ratings.csv\")\n",
    "ratings_data.head()"
   ]
  },
  {
   "cell_type": "code",
   "execution_count": 6,
   "metadata": {},
   "outputs": [
    {
     "data": {
      "text/html": [
       "<div>\n",
       "<style scoped>\n",
       "    .dataframe tbody tr th:only-of-type {\n",
       "        vertical-align: middle;\n",
       "    }\n",
       "\n",
       "    .dataframe tbody tr th {\n",
       "        vertical-align: top;\n",
       "    }\n",
       "\n",
       "    .dataframe thead th {\n",
       "        text-align: right;\n",
       "    }\n",
       "</style>\n",
       "<table border=\"1\" class=\"dataframe\">\n",
       "  <thead>\n",
       "    <tr style=\"text-align: right;\">\n",
       "      <th></th>\n",
       "      <th>movieId</th>\n",
       "      <th>title</th>\n",
       "      <th>genres</th>\n",
       "    </tr>\n",
       "  </thead>\n",
       "  <tbody>\n",
       "    <tr>\n",
       "      <th>0</th>\n",
       "      <td>1</td>\n",
       "      <td>Toy Story (1995)</td>\n",
       "      <td>Adventure|Animation|Children|Comedy|Fantasy</td>\n",
       "    </tr>\n",
       "    <tr>\n",
       "      <th>1</th>\n",
       "      <td>2</td>\n",
       "      <td>Jumanji (1995)</td>\n",
       "      <td>Adventure|Children|Fantasy</td>\n",
       "    </tr>\n",
       "    <tr>\n",
       "      <th>2</th>\n",
       "      <td>3</td>\n",
       "      <td>Grumpier Old Men (1995)</td>\n",
       "      <td>Comedy|Romance</td>\n",
       "    </tr>\n",
       "    <tr>\n",
       "      <th>3</th>\n",
       "      <td>4</td>\n",
       "      <td>Waiting to Exhale (1995)</td>\n",
       "      <td>Comedy|Drama|Romance</td>\n",
       "    </tr>\n",
       "    <tr>\n",
       "      <th>4</th>\n",
       "      <td>5</td>\n",
       "      <td>Father of the Bride Part II (1995)</td>\n",
       "      <td>Comedy</td>\n",
       "    </tr>\n",
       "  </tbody>\n",
       "</table>\n",
       "</div>"
      ],
      "text/plain": [
       "   movieId                               title  \\\n",
       "0        1                    Toy Story (1995)   \n",
       "1        2                      Jumanji (1995)   \n",
       "2        3             Grumpier Old Men (1995)   \n",
       "3        4            Waiting to Exhale (1995)   \n",
       "4        5  Father of the Bride Part II (1995)   \n",
       "\n",
       "                                        genres  \n",
       "0  Adventure|Animation|Children|Comedy|Fantasy  \n",
       "1                   Adventure|Children|Fantasy  \n",
       "2                               Comedy|Romance  \n",
       "3                         Comedy|Drama|Romance  \n",
       "4                                       Comedy  "
      ]
     },
     "execution_count": 6,
     "metadata": {},
     "output_type": "execute_result"
    }
   ],
   "source": [
    "movie_names = pd.read_csv(\"C:/Users/Robert/Desktop/Ml-20/ml-20m/movies.csv\")\n",
    "movie_names.head()"
   ]
  },
  {
   "cell_type": "code",
   "execution_count": 7,
   "metadata": {},
   "outputs": [],
   "source": [
    "ratingDF = pd.merge(ratings_data, movie_names, on='movieId')"
   ]
  },
  {
   "cell_type": "markdown",
   "metadata": {},
   "source": [
    "## Here let us explore the data"
   ]
  },
  {
   "cell_type": "code",
   "execution_count": 8,
   "metadata": {},
   "outputs": [
    {
     "data": {
      "text/plain": [
       "Index(['userId', 'movieId', 'rating', 'timestamp', 'title', 'genres'], dtype='object')"
      ]
     },
     "execution_count": 8,
     "metadata": {},
     "output_type": "execute_result"
    }
   ],
   "source": [
    "ratingDF.columns"
   ]
  },
  {
   "cell_type": "code",
   "execution_count": 9,
   "metadata": {},
   "outputs": [
    {
     "data": {
      "text/plain": [
       "(20000263, 6)"
      ]
     },
     "execution_count": 9,
     "metadata": {},
     "output_type": "execute_result"
    }
   ],
   "source": [
    "ratingDF.shape"
   ]
  },
  {
   "cell_type": "code",
   "execution_count": 10,
   "metadata": {},
   "outputs": [
    {
     "data": {
      "text/plain": [
       "<bound method DataFrame.info of           userId  movieId  rating   timestamp  \\\n",
       "0              1        2     3.5  1112486027   \n",
       "1              5        2     3.0   851527569   \n",
       "2             13        2     3.0   849082742   \n",
       "3             29        2     3.0   835562174   \n",
       "4             34        2     3.0   846509384   \n",
       "...          ...      ...     ...         ...   \n",
       "20000258  138301   121017     3.5  1420558479   \n",
       "20000259  138301   121019     4.5  1420558606   \n",
       "20000260  138301   121021     4.5  1420558687   \n",
       "20000261  138406   110167     4.5  1396184127   \n",
       "20000262  138406   110510     4.5  1397597539   \n",
       "\n",
       "                                                      title  \\\n",
       "0                                            Jumanji (1995)   \n",
       "1                                            Jumanji (1995)   \n",
       "2                                            Jumanji (1995)   \n",
       "3                                            Jumanji (1995)   \n",
       "4                                            Jumanji (1995)   \n",
       "...                                                     ...   \n",
       "20000258                    The Gentleman from Epsom (1962)   \n",
       "20000259                         The Great Spy Chase (1964)   \n",
       "20000260                             Taxi for Tobruk (1961)   \n",
       "20000261  Judge and the Assassin, The (Juge et l'assassi...   \n",
       "20000262                                 Série noire (1979)   \n",
       "\n",
       "                              genres  \n",
       "0         Adventure|Children|Fantasy  \n",
       "1         Adventure|Children|Fantasy  \n",
       "2         Adventure|Children|Fantasy  \n",
       "3         Adventure|Children|Fantasy  \n",
       "4         Adventure|Children|Fantasy  \n",
       "...                              ...  \n",
       "20000258                Comedy|Crime  \n",
       "20000259      Action|Comedy|Thriller  \n",
       "20000260                   Drama|War  \n",
       "20000261                 Crime|Drama  \n",
       "20000262                   Film-Noir  \n",
       "\n",
       "[20000263 rows x 6 columns]>"
      ]
     },
     "execution_count": 10,
     "metadata": {},
     "output_type": "execute_result"
    }
   ],
   "source": [
    "ratingDF.info"
   ]
  },
  {
   "cell_type": "code",
   "execution_count": 11,
   "metadata": {},
   "outputs": [
    {
     "data": {
      "text/html": [
       "<div>\n",
       "<style scoped>\n",
       "    .dataframe tbody tr th:only-of-type {\n",
       "        vertical-align: middle;\n",
       "    }\n",
       "\n",
       "    .dataframe tbody tr th {\n",
       "        vertical-align: top;\n",
       "    }\n",
       "\n",
       "    .dataframe thead th {\n",
       "        text-align: right;\n",
       "    }\n",
       "</style>\n",
       "<table border=\"1\" class=\"dataframe\">\n",
       "  <thead>\n",
       "    <tr style=\"text-align: right;\">\n",
       "      <th></th>\n",
       "      <th>userId</th>\n",
       "      <th>movieId</th>\n",
       "      <th>rating</th>\n",
       "      <th>timestamp</th>\n",
       "      <th>title</th>\n",
       "      <th>genres</th>\n",
       "    </tr>\n",
       "  </thead>\n",
       "  <tbody>\n",
       "    <tr>\n",
       "      <th>0</th>\n",
       "      <td>1</td>\n",
       "      <td>2</td>\n",
       "      <td>3.5</td>\n",
       "      <td>1112486027</td>\n",
       "      <td>Jumanji (1995)</td>\n",
       "      <td>Adventure|Children|Fantasy</td>\n",
       "    </tr>\n",
       "    <tr>\n",
       "      <th>1</th>\n",
       "      <td>5</td>\n",
       "      <td>2</td>\n",
       "      <td>3.0</td>\n",
       "      <td>851527569</td>\n",
       "      <td>Jumanji (1995)</td>\n",
       "      <td>Adventure|Children|Fantasy</td>\n",
       "    </tr>\n",
       "    <tr>\n",
       "      <th>2</th>\n",
       "      <td>13</td>\n",
       "      <td>2</td>\n",
       "      <td>3.0</td>\n",
       "      <td>849082742</td>\n",
       "      <td>Jumanji (1995)</td>\n",
       "      <td>Adventure|Children|Fantasy</td>\n",
       "    </tr>\n",
       "    <tr>\n",
       "      <th>3</th>\n",
       "      <td>29</td>\n",
       "      <td>2</td>\n",
       "      <td>3.0</td>\n",
       "      <td>835562174</td>\n",
       "      <td>Jumanji (1995)</td>\n",
       "      <td>Adventure|Children|Fantasy</td>\n",
       "    </tr>\n",
       "    <tr>\n",
       "      <th>4</th>\n",
       "      <td>34</td>\n",
       "      <td>2</td>\n",
       "      <td>3.0</td>\n",
       "      <td>846509384</td>\n",
       "      <td>Jumanji (1995)</td>\n",
       "      <td>Adventure|Children|Fantasy</td>\n",
       "    </tr>\n",
       "    <tr>\n",
       "      <th>5</th>\n",
       "      <td>54</td>\n",
       "      <td>2</td>\n",
       "      <td>3.0</td>\n",
       "      <td>974918176</td>\n",
       "      <td>Jumanji (1995)</td>\n",
       "      <td>Adventure|Children|Fantasy</td>\n",
       "    </tr>\n",
       "    <tr>\n",
       "      <th>6</th>\n",
       "      <td>88</td>\n",
       "      <td>2</td>\n",
       "      <td>1.0</td>\n",
       "      <td>1098277938</td>\n",
       "      <td>Jumanji (1995)</td>\n",
       "      <td>Adventure|Children|Fantasy</td>\n",
       "    </tr>\n",
       "    <tr>\n",
       "      <th>7</th>\n",
       "      <td>91</td>\n",
       "      <td>2</td>\n",
       "      <td>3.5</td>\n",
       "      <td>1112061358</td>\n",
       "      <td>Jumanji (1995)</td>\n",
       "      <td>Adventure|Children|Fantasy</td>\n",
       "    </tr>\n",
       "    <tr>\n",
       "      <th>8</th>\n",
       "      <td>116</td>\n",
       "      <td>2</td>\n",
       "      <td>2.0</td>\n",
       "      <td>1132728068</td>\n",
       "      <td>Jumanji (1995)</td>\n",
       "      <td>Adventure|Children|Fantasy</td>\n",
       "    </tr>\n",
       "    <tr>\n",
       "      <th>9</th>\n",
       "      <td>119</td>\n",
       "      <td>2</td>\n",
       "      <td>4.0</td>\n",
       "      <td>845110667</td>\n",
       "      <td>Jumanji (1995)</td>\n",
       "      <td>Adventure|Children|Fantasy</td>\n",
       "    </tr>\n",
       "  </tbody>\n",
       "</table>\n",
       "</div>"
      ],
      "text/plain": [
       "   userId  movieId  rating   timestamp           title  \\\n",
       "0       1        2     3.5  1112486027  Jumanji (1995)   \n",
       "1       5        2     3.0   851527569  Jumanji (1995)   \n",
       "2      13        2     3.0   849082742  Jumanji (1995)   \n",
       "3      29        2     3.0   835562174  Jumanji (1995)   \n",
       "4      34        2     3.0   846509384  Jumanji (1995)   \n",
       "5      54        2     3.0   974918176  Jumanji (1995)   \n",
       "6      88        2     1.0  1098277938  Jumanji (1995)   \n",
       "7      91        2     3.5  1112061358  Jumanji (1995)   \n",
       "8     116        2     2.0  1132728068  Jumanji (1995)   \n",
       "9     119        2     4.0   845110667  Jumanji (1995)   \n",
       "\n",
       "                       genres  \n",
       "0  Adventure|Children|Fantasy  \n",
       "1  Adventure|Children|Fantasy  \n",
       "2  Adventure|Children|Fantasy  \n",
       "3  Adventure|Children|Fantasy  \n",
       "4  Adventure|Children|Fantasy  \n",
       "5  Adventure|Children|Fantasy  \n",
       "6  Adventure|Children|Fantasy  \n",
       "7  Adventure|Children|Fantasy  \n",
       "8  Adventure|Children|Fantasy  \n",
       "9  Adventure|Children|Fantasy  "
      ]
     },
     "execution_count": 11,
     "metadata": {},
     "output_type": "execute_result"
    }
   ],
   "source": [
    "ratingDF.head(10)"
   ]
  },
  {
   "cell_type": "code",
   "execution_count": 12,
   "metadata": {},
   "outputs": [
    {
     "data": {
      "text/plain": [
       "title\n",
       "\"Great Performances\" Cats (1998)                               2.748387\n",
       "#chicagoGirl: The Social Network Takes on a Dictator (2013)    3.666667\n",
       "$ (Dollars) (1971)                                             2.833333\n",
       "$5 a Day (2008)                                                2.871795\n",
       "$9.99 (2008)                                                   3.009091\n",
       "Name: rating, dtype: float64"
      ]
     },
     "execution_count": 12,
     "metadata": {},
     "output_type": "execute_result"
    }
   ],
   "source": [
    "ratingDF.groupby('title')['rating'].mean().head()"
   ]
  },
  {
   "cell_type": "code",
   "execution_count": 13,
   "metadata": {},
   "outputs": [
    {
     "data": {
      "text/plain": [
       "title\n",
       "Stealing a Nation (2004)                                 5.0\n",
       "Human Behavior Experiments, The (2006)                   5.0\n",
       "Boys Diving, Honolulu (1901)                             5.0\n",
       "Rigoletto (1993)                                         5.0\n",
       "Paying the Price: Killing the Children of Iraq (2000)    5.0\n",
       "Name: rating, dtype: float64"
      ]
     },
     "execution_count": 13,
     "metadata": {},
     "output_type": "execute_result"
    }
   ],
   "source": [
    "ratingDF.groupby('title')['rating'].mean().sort_values(ascending=False).head()"
   ]
  },
  {
   "cell_type": "code",
   "execution_count": 14,
   "metadata": {},
   "outputs": [
    {
     "data": {
      "text/plain": [
       "title\n",
       "Pulp Fiction (1994)                 67310\n",
       "Forrest Gump (1994)                 66172\n",
       "Shawshank Redemption, The (1994)    63366\n",
       "Silence of the Lambs, The (1991)    63299\n",
       "Jurassic Park (1993)                59715\n",
       "Name: rating, dtype: int64"
      ]
     },
     "execution_count": 14,
     "metadata": {},
     "output_type": "execute_result"
    }
   ],
   "source": [
    "ratingDF.groupby('title')['rating'].count().sort_values(ascending=False).head()"
   ]
  },
  {
   "cell_type": "markdown",
   "metadata": {},
   "source": [
    "## Next I changed the data types to allow them to be used in my model "
   ]
  },
  {
   "cell_type": "code",
   "execution_count": 15,
   "metadata": {},
   "outputs": [],
   "source": [
    "ratingDF.userId = ratingDF.userId.astype(str).astype(int)\n",
    "ratingDF.movieId = ratingDF.movieId.astype(str).astype(int)\n",
    "ratingDF.rating = ratingDF.rating.astype(str).astype(float)"
   ]
  },
  {
   "cell_type": "code",
   "execution_count": 16,
   "metadata": {},
   "outputs": [
    {
     "name": "stdout",
     "output_type": "stream",
     "text": [
      "<class 'pandas.core.frame.DataFrame'>\n",
      "Int64Index: 20000263 entries, 0 to 20000262\n",
      "Data columns (total 6 columns):\n",
      " #   Column     Dtype  \n",
      "---  ------     -----  \n",
      " 0   userId     int32  \n",
      " 1   movieId    int32  \n",
      " 2   rating     float64\n",
      " 3   timestamp  int64  \n",
      " 4   title      object \n",
      " 5   genres     object \n",
      "dtypes: float64(1), int32(2), int64(1), object(2)\n",
      "memory usage: 915.5+ MB\n"
     ]
    }
   ],
   "source": [
    "ratingDF.info()"
   ]
  },
  {
   "cell_type": "code",
   "execution_count": 17,
   "metadata": {},
   "outputs": [
    {
     "data": {
      "text/html": [
       "<div>\n",
       "<style scoped>\n",
       "    .dataframe tbody tr th:only-of-type {\n",
       "        vertical-align: middle;\n",
       "    }\n",
       "\n",
       "    .dataframe tbody tr th {\n",
       "        vertical-align: top;\n",
       "    }\n",
       "\n",
       "    .dataframe thead th {\n",
       "        text-align: right;\n",
       "    }\n",
       "</style>\n",
       "<table border=\"1\" class=\"dataframe\">\n",
       "  <thead>\n",
       "    <tr style=\"text-align: right;\">\n",
       "      <th></th>\n",
       "      <th>userId</th>\n",
       "      <th>movieId</th>\n",
       "      <th>rating</th>\n",
       "      <th>timestamp</th>\n",
       "      <th>title</th>\n",
       "      <th>genres</th>\n",
       "    </tr>\n",
       "  </thead>\n",
       "  <tbody>\n",
       "    <tr>\n",
       "      <th>0</th>\n",
       "      <td>1</td>\n",
       "      <td>2</td>\n",
       "      <td>3.5</td>\n",
       "      <td>1112486027</td>\n",
       "      <td>Jumanji (1995)</td>\n",
       "      <td>Adventure|Children|Fantasy</td>\n",
       "    </tr>\n",
       "    <tr>\n",
       "      <th>1</th>\n",
       "      <td>5</td>\n",
       "      <td>2</td>\n",
       "      <td>3.0</td>\n",
       "      <td>851527569</td>\n",
       "      <td>Jumanji (1995)</td>\n",
       "      <td>Adventure|Children|Fantasy</td>\n",
       "    </tr>\n",
       "    <tr>\n",
       "      <th>2</th>\n",
       "      <td>13</td>\n",
       "      <td>2</td>\n",
       "      <td>3.0</td>\n",
       "      <td>849082742</td>\n",
       "      <td>Jumanji (1995)</td>\n",
       "      <td>Adventure|Children|Fantasy</td>\n",
       "    </tr>\n",
       "    <tr>\n",
       "      <th>3</th>\n",
       "      <td>29</td>\n",
       "      <td>2</td>\n",
       "      <td>3.0</td>\n",
       "      <td>835562174</td>\n",
       "      <td>Jumanji (1995)</td>\n",
       "      <td>Adventure|Children|Fantasy</td>\n",
       "    </tr>\n",
       "    <tr>\n",
       "      <th>4</th>\n",
       "      <td>34</td>\n",
       "      <td>2</td>\n",
       "      <td>3.0</td>\n",
       "      <td>846509384</td>\n",
       "      <td>Jumanji (1995)</td>\n",
       "      <td>Adventure|Children|Fantasy</td>\n",
       "    </tr>\n",
       "  </tbody>\n",
       "</table>\n",
       "</div>"
      ],
      "text/plain": [
       "   userId  movieId  rating   timestamp           title  \\\n",
       "0       1        2     3.5  1112486027  Jumanji (1995)   \n",
       "1       5        2     3.0   851527569  Jumanji (1995)   \n",
       "2      13        2     3.0   849082742  Jumanji (1995)   \n",
       "3      29        2     3.0   835562174  Jumanji (1995)   \n",
       "4      34        2     3.0   846509384  Jumanji (1995)   \n",
       "\n",
       "                       genres  \n",
       "0  Adventure|Children|Fantasy  \n",
       "1  Adventure|Children|Fantasy  \n",
       "2  Adventure|Children|Fantasy  \n",
       "3  Adventure|Children|Fantasy  \n",
       "4  Adventure|Children|Fantasy  "
      ]
     },
     "execution_count": 17,
     "metadata": {},
     "output_type": "execute_result"
    }
   ],
   "source": [
    "ratingDF.head()"
   ]
  },
  {
   "cell_type": "markdown",
   "metadata": {},
   "source": [
    "## More data exploring and cleaning\n",
    "\n",
    "### Age is very skewed and needs to be normalized"
   ]
  },
  {
   "cell_type": "code",
   "execution_count": 18,
   "metadata": {},
   "outputs": [
    {
     "data": {
      "image/png": "[encoded data removed]",
      "text/plain": [
       "<Figure size 1440x504 with 1 Axes>"
      ]
     },
     "metadata": {
      "needs_background": "light"
     },
     "output_type": "display_data"
    }
   ],
   "source": [
    "plt.figure(figsize=(20,7))\n",
    "generlist = ratingDF['genres'].apply(lambda generlist_movie : str(generlist_movie).split(\"|\"))\n",
    "geners_count = {}\n",
    "\n",
    "for generlist_movie in generlist:\n",
    "    for gener in generlist_movie:\n",
    "        if(geners_count.get(gener,False)):\n",
    "            geners_count[gener]=geners_count[gener]+1\n",
    "        else:\n",
    "            geners_count[gener] = 1       \n",
    "geners_count.pop(\"(no genres listed)\")\n",
    "plt.bar(geners_count.keys(),geners_count.values(),color='g');"
   ]
  },
  {
   "cell_type": "code",
   "execution_count": 20,
   "metadata": {},
   "outputs": [
    {
     "data": {
      "image/png": "[encoded data removed]",
      "text/plain": [
       "<Figure size 432x288 with 1 Axes>"
      ]
     },
     "metadata": {
      "needs_background": "light"
     },
     "output_type": "display_data"
    }
   ],
   "source": [
    "sns.distplot(ratingDF[\"rating\"]);"
   ]
  },
  {
   "cell_type": "code",
   "execution_count": 21,
   "metadata": {},
   "outputs": [
    {
     "data": {
      "image/png": "[encoded data removed]",
      "text/plain": [
       "<Figure size 432x288 with 1 Axes>"
      ]
     },
     "metadata": {
      "needs_background": "light"
     },
     "output_type": "display_data"
    }
   ],
   "source": [
    "sns.distplot(ratingDF.timestamp.dropna(), kde=False);"
   ]
  },
  {
   "cell_type": "markdown",
   "metadata": {},
   "source": [
    "## To normalize the average movie rating I will replace 0 with none"
   ]
  },
  {
   "cell_type": "code",
   "execution_count": 22,
   "metadata": {},
   "outputs": [],
   "source": [
    "ratingDF.rating = ratingDF.rating.replace(0, None)"
   ]
  },
  {
   "cell_type": "code",
   "execution_count": 23,
   "metadata": {},
   "outputs": [
    {
     "data": {
      "image/png": "[encoded data removed]",
      "text/plain": [
       "<Figure size 432x288 with 1 Axes>"
      ]
     },
     "metadata": {
      "needs_background": "light"
     },
     "output_type": "display_data"
    }
   ],
   "source": [
    "sns.countplot(x='rating', data=ratingDF);"
   ]
  },
  {
   "cell_type": "code",
   "execution_count": 24,
   "metadata": {},
   "outputs": [
    {
     "name": "stdout",
     "output_type": "stream",
     "text": [
      "Average move rating:  3.53\n"
     ]
    }
   ],
   "source": [
    "print('Average move rating: ', round(ratingDF['rating'].mean(), 2))"
   ]
  },
  {
   "cell_type": "code",
   "execution_count": 25,
   "metadata": {},
   "outputs": [
    {
     "data": {
      "image/png": "[encoded data removed]",
      "text/plain": [
       "<Figure size 432x288 with 2 Axes>"
      ]
     },
     "metadata": {
      "needs_background": "light"
     },
     "output_type": "display_data"
    }
   ],
   "source": [
    "corrMatrix = ratingDF.corr()\n",
    "sns.heatmap(corrMatrix, annot=True)\n",
    "plt.show()"
   ]
  },
  {
   "cell_type": "markdown",
   "metadata": {},
   "source": [
    "## Now I will determine the unique number of entries that will make up the training and test data sets"
   ]
  },
  {
   "cell_type": "code",
   "execution_count": 26,
   "metadata": {},
   "outputs": [],
   "source": [
    "n_users = ratingDF.userId.unique().shape[0]\n",
    "n_movies = ratingDF.movieId.unique().shape[0]\n",
    "n_ratings = len(ratingDF)\n",
    "avg_ratings_per_user = n_ratings/n_users"
   ]
  },
  {
   "cell_type": "code",
   "execution_count": 27,
   "metadata": {},
   "outputs": [
    {
     "name": "stdout",
     "output_type": "stream",
     "text": [
      "Number of unique users 138493\n",
      "Number of unique books 26744\n",
      "Total number of ratings 20000263\n",
      "Average number of ratings per user 144.4135299257002\n"
     ]
    }
   ],
   "source": [
    "print('Number of unique users', n_users)\n",
    "print('Number of unique books', n_movies)\n",
    "print('Total number of ratings', n_ratings)\n",
    "print('Average number of ratings per user', avg_ratings_per_user)"
   ]
  },
  {
   "cell_type": "markdown",
   "metadata": {},
   "source": [
    "### Next l will lower sample size to 1200"
   ]
  },
  {
   "cell_type": "code",
   "execution_count": 28,
   "metadata": {
    "scrolled": true
   },
   "outputs": [],
   "source": [
    "movieIndex = ratingDF.groupby(\"movieId\").count().sort_values(by=\"rating\", ascending=False)[0:1200].index\n",
    "rating2 = ratingDF[ratingDF.movieId.isin(movieIndex)]\n",
    "rating2.count()\n",
    "\n",
    "userIndex = rating2.groupby('userId').count().sort_values(by=\"rating\", ascending=False).sample(n=1200, random_state=88).index\n",
    "rating3 = rating2[rating2.userId.isin(userIndex)]\n",
    "rating3.count()\n",
    "\n",
    "movies = rating3.movieId.unique()\n",
    "moviesDF = pd.DataFrame(data=movies, columns=['orginalmovieId'])\n",
    "moviesDF['newmovieId'] = moviesDF.index+1\n",
    "\n",
    "users = rating3.userId.unique()\n",
    "usersDF = pd.DataFrame(data=users, columns=['orginaluserId'])\n",
    "usersDF['newuserId'] = usersDF.index+1\n",
    "\n",
    "rating3 = rating3.merge(moviesDF, left_on='movieId',  right_on='orginalmovieId')\n",
    "\n",
    "rating3.drop(labels='orginalmovieId', axis=1, inplace=True)\n",
    "\n",
    "rating3 = rating3.merge(usersDF, left_on='userId', right_on='orginaluserId')\n",
    "\n",
    "rating3.drop(labels='orginaluserId', axis=1, inplace=True)"
   ]
  },
  {
   "cell_type": "code",
   "execution_count": 29,
   "metadata": {},
   "outputs": [
    {
     "name": "stdout",
     "output_type": "stream",
     "text": [
      "userId        112401\n",
      "movieId       112401\n",
      "rating        112401\n",
      "timestamp     112401\n",
      "title         112401\n",
      "genres        112401\n",
      "newmovieId    112401\n",
      "newuserId     112401\n",
      "dtype: int64\n"
     ]
    }
   ],
   "source": [
    "print(rating3.count())"
   ]
  },
  {
   "cell_type": "code",
   "execution_count": 30,
   "metadata": {},
   "outputs": [],
   "source": [
    "n_users = rating3.userId.unique().shape[0]\n",
    "n_movies = rating3.movieId.unique().shape[0]\n",
    "n_ratings = len(rating3)\n",
    "avg_ratings_per_user = n_ratings/n_users"
   ]
  },
  {
   "cell_type": "code",
   "execution_count": 31,
   "metadata": {},
   "outputs": [
    {
     "name": "stdout",
     "output_type": "stream",
     "text": [
      "Number of unique users 1200\n",
      "Number of unique movies 1200\n",
      "Total number of ratings 112401\n",
      "Average number of ratings per user 93.6675\n"
     ]
    }
   ],
   "source": [
    "print('Number of unique users', n_users)\n",
    "print('Number of unique movies', n_movies)\n",
    "print('Total number of ratings', n_ratings)\n",
    "print('Average number of ratings per user', avg_ratings_per_user)"
   ]
  },
  {
   "cell_type": "markdown",
   "metadata": {},
   "source": [
    "#### Now we want the format of our ratings matrix to be one row per user and one column per movie. To do so, we willl pivot ratings to get that and call the new variable Ratings (with a capital *R)."
   ]
  },
  {
   "cell_type": "code",
   "execution_count": 32,
   "metadata": {},
   "outputs": [],
   "source": [
    "Ratings = rating3.pivot(index = 'userId', columns ='movieId', values = 'rating').fillna(0)"
   ]
  },
  {
   "cell_type": "markdown",
   "metadata": {},
   "source": [
    "#### Last but not least, we need to de-normalize the data (normalize by each users mean) and convert it from a dataframe to a numpy array"
   ]
  },
  {
   "cell_type": "code",
   "execution_count": 33,
   "metadata": {},
   "outputs": [],
   "source": [
    "R = np.asmatrix(Ratings.values) \n",
    "#print(R)\n",
    "user_ratings_mean = np.mean(R, axis = 1)\n",
    "#print(user_ratings_mean.shape)\n",
    "#print(user_ratings_mean.size)\n",
    "Ratings_demeaned = R - user_ratings_mean.reshape(-1, 1) ## Making the user_ratings_mean vertical by reshaping"
   ]
  },
  {
   "cell_type": "code",
   "execution_count": 34,
   "metadata": {},
   "outputs": [
    {
     "name": "stdout",
     "output_type": "stream",
     "text": [
      "The sparsity level of the dataset is 92.2%\n"
     ]
    }
   ],
   "source": [
    "sparsity = round(1.0 - len(rating3) / float(n_users * n_movies), 3)\n",
    "print('The sparsity level of the dataset is ' +  str(sparsity * 100) + '%')"
   ]
  },
  {
   "cell_type": "markdown",
   "metadata": {},
   "source": [
    "### Scipy and Numpy both have functions to do the singular value decomposition. I’m going to use the Scipy function svds because it let’s me choose how many latent factors I want to use to approximate the original ratings matrix (instead of having to truncate it after)."
   ]
  },
  {
   "cell_type": "code",
   "execution_count": 35,
   "metadata": {},
   "outputs": [],
   "source": [
    "U, sigma, Vt = svds(Ratings, k = 100)"
   ]
  },
  {
   "cell_type": "code",
   "execution_count": 36,
   "metadata": {},
   "outputs": [
    {
     "name": "stdout",
     "output_type": "stream",
     "text": [
      "Size of sigma:  100\n"
     ]
    }
   ],
   "source": [
    "print('Size of sigma: ' , sigma.size)"
   ]
  },
  {
   "cell_type": "markdown",
   "metadata": {},
   "source": [
    "### As I’m going to leverage matrix multiplication to get predictions, I’ll convert the Sum (now are values) to the diagonal matrix form."
   ]
  },
  {
   "cell_type": "code",
   "execution_count": 37,
   "metadata": {},
   "outputs": [],
   "source": [
    "sigma = np.diag(sigma)"
   ]
  },
  {
   "cell_type": "code",
   "execution_count": 38,
   "metadata": {},
   "outputs": [
    {
     "name": "stdout",
     "output_type": "stream",
     "text": [
      "Shape of sigma:  (100, 100)\n",
      "[[ 52.11466215   0.           0.         ...   0.           0.\n",
      "    0.        ]\n",
      " [  0.          52.43935898   0.         ...   0.           0.\n",
      "    0.        ]\n",
      " [  0.           0.          52.65972016 ...   0.           0.\n",
      "    0.        ]\n",
      " ...\n",
      " [  0.           0.           0.         ... 234.86600262   0.\n",
      "    0.        ]\n",
      " [  0.           0.           0.         ...   0.         264.97185863\n",
      "    0.        ]\n",
      " [  0.           0.           0.         ...   0.           0.\n",
      "  636.64760608]]\n"
     ]
    }
   ],
   "source": [
    "print('Shape of sigma: ', sigma.shape)\n",
    "print(sigma)"
   ]
  },
  {
   "cell_type": "code",
   "execution_count": 39,
   "metadata": {},
   "outputs": [
    {
     "name": "stdout",
     "output_type": "stream",
     "text": [
      "Shape of U:  (1200, 100)\n",
      "Shape of Vt:  (100, 1200)\n"
     ]
    }
   ],
   "source": [
    "print('Shape of U: ', U.shape)\n",
    "print('Shape of Vt: ', Vt.shape)"
   ]
  },
  {
   "cell_type": "markdown",
   "metadata": {},
   "source": [
    "#### I now have everything I need to make movie ratings predictions for every user. I can do it all at once by following the math and matrix multiply U, Sum, and V^T back to get the rank k = 50 approximation of A.\n",
    "\n",
    "#### But first, I need to add the user means back to get the actual star ratings prediction."
   ]
  },
  {
   "cell_type": "code",
   "execution_count": 40,
   "metadata": {},
   "outputs": [],
   "source": [
    "all_user_predicted_ratings = np.dot(np.dot(U, sigma), Vt) + user_ratings_mean.reshape(-1, 1)"
   ]
  },
  {
   "cell_type": "code",
   "execution_count": 41,
   "metadata": {},
   "outputs": [
    {
     "name": "stdout",
     "output_type": "stream",
     "text": [
      "All user predicted rating :  (1200, 1200)\n"
     ]
    }
   ],
   "source": [
    "print('All user predicted rating : ', all_user_predicted_ratings.shape)"
   ]
  },
  {
   "cell_type": "markdown",
   "metadata": {},
   "source": [
    "#### With the predictions matrix for every user, we can build a function to recommend movies for any user. We return the list of movies the user has already rated, for the sake of comparison."
   ]
  },
  {
   "cell_type": "code",
   "execution_count": 42,
   "metadata": {},
   "outputs": [
    {
     "name": "stdout",
     "output_type": "stream",
     "text": [
      "Rating Dataframe column names Int64Index([    1,     2,     3,     5,     6,     7,    10,    11,    14,\n",
      "               16,\n",
      "            ...\n",
      "            76251, 77561, 78499, 79132, 80463, 81591, 81845, 89745, 91529,\n",
      "            99114],\n",
      "           dtype='int64', name='movieId', length=1200)\n"
     ]
    }
   ],
   "source": [
    "print('Rating Dataframe column names', Ratings.columns)"
   ]
  },
  {
   "cell_type": "code",
   "execution_count": 43,
   "metadata": {},
   "outputs": [
    {
     "data": {
      "text/html": [
       "<div>\n",
       "<style scoped>\n",
       "    .dataframe tbody tr th:only-of-type {\n",
       "        vertical-align: middle;\n",
       "    }\n",
       "\n",
       "    .dataframe tbody tr th {\n",
       "        vertical-align: top;\n",
       "    }\n",
       "\n",
       "    .dataframe thead th {\n",
       "        text-align: right;\n",
       "    }\n",
       "</style>\n",
       "<table border=\"1\" class=\"dataframe\">\n",
       "  <thead>\n",
       "    <tr style=\"text-align: right;\">\n",
       "      <th>movieId</th>\n",
       "      <th>1</th>\n",
       "      <th>2</th>\n",
       "      <th>3</th>\n",
       "      <th>5</th>\n",
       "      <th>6</th>\n",
       "      <th>7</th>\n",
       "      <th>10</th>\n",
       "      <th>11</th>\n",
       "      <th>14</th>\n",
       "      <th>16</th>\n",
       "      <th>...</th>\n",
       "      <th>76251</th>\n",
       "      <th>77561</th>\n",
       "      <th>78499</th>\n",
       "      <th>79132</th>\n",
       "      <th>80463</th>\n",
       "      <th>81591</th>\n",
       "      <th>81845</th>\n",
       "      <th>89745</th>\n",
       "      <th>91529</th>\n",
       "      <th>99114</th>\n",
       "    </tr>\n",
       "  </thead>\n",
       "  <tbody>\n",
       "    <tr>\n",
       "      <th>0</th>\n",
       "      <td>6.559302</td>\n",
       "      <td>1.757697</td>\n",
       "      <td>0.482170</td>\n",
       "      <td>0.872076</td>\n",
       "      <td>0.509830</td>\n",
       "      <td>0.697081</td>\n",
       "      <td>2.976020</td>\n",
       "      <td>1.042342</td>\n",
       "      <td>0.499399</td>\n",
       "      <td>1.454533</td>\n",
       "      <td>...</td>\n",
       "      <td>1.278239</td>\n",
       "      <td>0.922927</td>\n",
       "      <td>0.756041</td>\n",
       "      <td>0.466786</td>\n",
       "      <td>0.993205</td>\n",
       "      <td>0.815785</td>\n",
       "      <td>0.760121</td>\n",
       "      <td>1.290980</td>\n",
       "      <td>1.478038</td>\n",
       "      <td>0.949495</td>\n",
       "    </tr>\n",
       "    <tr>\n",
       "      <th>1</th>\n",
       "      <td>0.151014</td>\n",
       "      <td>0.254994</td>\n",
       "      <td>0.480718</td>\n",
       "      <td>0.302252</td>\n",
       "      <td>0.176299</td>\n",
       "      <td>-0.202774</td>\n",
       "      <td>-0.742226</td>\n",
       "      <td>-0.726247</td>\n",
       "      <td>0.369260</td>\n",
       "      <td>0.281866</td>\n",
       "      <td>...</td>\n",
       "      <td>0.126826</td>\n",
       "      <td>0.453743</td>\n",
       "      <td>0.059608</td>\n",
       "      <td>-0.051221</td>\n",
       "      <td>0.396083</td>\n",
       "      <td>0.301666</td>\n",
       "      <td>0.043455</td>\n",
       "      <td>-0.435077</td>\n",
       "      <td>-0.314200</td>\n",
       "      <td>-0.307537</td>\n",
       "    </tr>\n",
       "    <tr>\n",
       "      <th>2</th>\n",
       "      <td>0.932169</td>\n",
       "      <td>0.196502</td>\n",
       "      <td>-0.038445</td>\n",
       "      <td>0.031548</td>\n",
       "      <td>-0.276534</td>\n",
       "      <td>0.505386</td>\n",
       "      <td>-0.126713</td>\n",
       "      <td>-0.059817</td>\n",
       "      <td>0.340507</td>\n",
       "      <td>0.160002</td>\n",
       "      <td>...</td>\n",
       "      <td>0.396815</td>\n",
       "      <td>0.245714</td>\n",
       "      <td>1.163325</td>\n",
       "      <td>2.799535</td>\n",
       "      <td>0.964277</td>\n",
       "      <td>1.397603</td>\n",
       "      <td>0.722184</td>\n",
       "      <td>0.967533</td>\n",
       "      <td>0.760296</td>\n",
       "      <td>0.765640</td>\n",
       "    </tr>\n",
       "    <tr>\n",
       "      <th>3</th>\n",
       "      <td>0.212598</td>\n",
       "      <td>0.725807</td>\n",
       "      <td>0.280377</td>\n",
       "      <td>0.589907</td>\n",
       "      <td>0.749680</td>\n",
       "      <td>0.294873</td>\n",
       "      <td>1.463197</td>\n",
       "      <td>1.197808</td>\n",
       "      <td>0.224493</td>\n",
       "      <td>1.140521</td>\n",
       "      <td>...</td>\n",
       "      <td>0.358639</td>\n",
       "      <td>0.312670</td>\n",
       "      <td>-0.016246</td>\n",
       "      <td>0.592838</td>\n",
       "      <td>0.087147</td>\n",
       "      <td>0.196339</td>\n",
       "      <td>0.147270</td>\n",
       "      <td>0.098349</td>\n",
       "      <td>0.067237</td>\n",
       "      <td>0.092485</td>\n",
       "    </tr>\n",
       "    <tr>\n",
       "      <th>4</th>\n",
       "      <td>0.213226</td>\n",
       "      <td>0.252179</td>\n",
       "      <td>0.321504</td>\n",
       "      <td>0.590974</td>\n",
       "      <td>-0.612023</td>\n",
       "      <td>0.575544</td>\n",
       "      <td>-0.021675</td>\n",
       "      <td>0.087825</td>\n",
       "      <td>0.144532</td>\n",
       "      <td>-0.129406</td>\n",
       "      <td>...</td>\n",
       "      <td>0.244307</td>\n",
       "      <td>0.078250</td>\n",
       "      <td>0.254014</td>\n",
       "      <td>-0.027543</td>\n",
       "      <td>0.257231</td>\n",
       "      <td>0.040386</td>\n",
       "      <td>-0.035558</td>\n",
       "      <td>0.058068</td>\n",
       "      <td>0.028157</td>\n",
       "      <td>0.129463</td>\n",
       "    </tr>\n",
       "  </tbody>\n",
       "</table>\n",
       "<p>5 rows × 1200 columns</p>\n",
       "</div>"
      ],
      "text/plain": [
       "movieId     1         2         3         5         6         7         10     \\\n",
       "0        6.559302  1.757697  0.482170  0.872076  0.509830  0.697081  2.976020   \n",
       "1        0.151014  0.254994  0.480718  0.302252  0.176299 -0.202774 -0.742226   \n",
       "2        0.932169  0.196502 -0.038445  0.031548 -0.276534  0.505386 -0.126713   \n",
       "3        0.212598  0.725807  0.280377  0.589907  0.749680  0.294873  1.463197   \n",
       "4        0.213226  0.252179  0.321504  0.590974 -0.612023  0.575544 -0.021675   \n",
       "\n",
       "movieId     11        14        16     ...     76251     77561     78499  \\\n",
       "0        1.042342  0.499399  1.454533  ...  1.278239  0.922927  0.756041   \n",
       "1       -0.726247  0.369260  0.281866  ...  0.126826  0.453743  0.059608   \n",
       "2       -0.059817  0.340507  0.160002  ...  0.396815  0.245714  1.163325   \n",
       "3        1.197808  0.224493  1.140521  ...  0.358639  0.312670 -0.016246   \n",
       "4        0.087825  0.144532 -0.129406  ...  0.244307  0.078250  0.254014   \n",
       "\n",
       "movieId     79132     80463     81591     81845     89745     91529     99114  \n",
       "0        0.466786  0.993205  0.815785  0.760121  1.290980  1.478038  0.949495  \n",
       "1       -0.051221  0.396083  0.301666  0.043455 -0.435077 -0.314200 -0.307537  \n",
       "2        2.799535  0.964277  1.397603  0.722184  0.967533  0.760296  0.765640  \n",
       "3        0.592838  0.087147  0.196339  0.147270  0.098349  0.067237  0.092485  \n",
       "4       -0.027543  0.257231  0.040386 -0.035558  0.058068  0.028157  0.129463  \n",
       "\n",
       "[5 rows x 1200 columns]"
      ]
     },
     "execution_count": 43,
     "metadata": {},
     "output_type": "execute_result"
    }
   ],
   "source": [
    "preds = pd.DataFrame(all_user_predicted_ratings, columns = Ratings.columns)\n",
    "preds.head()"
   ]
  },
  {
   "cell_type": "markdown",
   "metadata": {},
   "source": [
    "#### Now I write a function to return the movies with the highest predicted rating that the specified user hasn't already rated. Though we didn't use any explicit movie content features, I will merge in that information to get a more complete picture of the recommendations."
   ]
  },
  {
   "cell_type": "code",
   "execution_count": 44,
   "metadata": {},
   "outputs": [],
   "source": [
    "def recommend_movies(predictions, userId, movie_names, ratings_data, num_recommendations):\n",
    "    \"\"\"\n",
    "    Implementation of SVD by hand\n",
    "    :param predictions : The SVD reconstructed matrix, \n",
    "    userID : UserId for which you want to predict the top rated movies, \n",
    "    movies : Matrix with movie data, original_ratings : Original Rating matrix, \n",
    "    num_recommendations : num of recos to be returned\n",
    "    :return: num_recommendations top movies\n",
    "    \"\"\" \n",
    "    # Get and sort the user's predictions\n",
    "    user_row_number = userId - 1 # User ID starts at 1, not 0\n",
    "    sorted_user_predictions = predictions.iloc[user_row_number].sort_values(ascending=False) # User ID starts at 1\n",
    "    \n",
    "    # Get the user's data and merge in the movie information.\n",
    "    user_data = ratings_data[ratings_data.userId == (userId)]\n",
    "    user_full = (user_data.merge(movie_names, how = 'left', left_on = 'movieId', right_on = 'movieId').\n",
    "                     sort_values(['rating'], ascending=False)\n",
    "                 )\n",
    "\n",
    "    print('User {0} has already rated {1} movies.'.format(userId, user_full.shape[0]))\n",
    "    print('Recommending highest {0} predicted ratings movies not already rated.'.format(num_recommendations))\n",
    "    \n",
    "    # Recommend the highest predicted rating movies that the user hasn't seen yet.\n",
    "    recommendations = (movie_names[~movie_names['movieId'].isin(user_full['movieId'])].\n",
    "         merge(pd.DataFrame(sorted_user_predictions).reset_index(), how = 'left',\n",
    "               left_on = 'movieId',\n",
    "               right_on = 'movieId').\n",
    "         rename(columns = {user_row_number: 'Predictions'}).\n",
    "         sort_values('Predictions', ascending = False).\n",
    "                       iloc[:num_recommendations, :-1]\n",
    "                      )\n",
    "\n",
    "    return user_full, recommendations"
   ]
  },
  {
   "cell_type": "markdown",
   "metadata": {},
   "source": [
    "#### Let's try to recommend 20 movies for user with ID 810"
   ]
  },
  {
   "cell_type": "code",
   "execution_count": 45,
   "metadata": {},
   "outputs": [
    {
     "name": "stdout",
     "output_type": "stream",
     "text": [
      "User 810 has already rated 100 movies.\n",
      "Recommending highest 20 predicted ratings movies not already rated.\n"
     ]
    }
   ],
   "source": [
    "already_rated, predictions = recommend_movies(preds, 810, movie_names, ratings_data,20)"
   ]
  },
  {
   "cell_type": "code",
   "execution_count": 46,
   "metadata": {},
   "outputs": [
    {
     "data": {
      "text/html": [
       "<div>\n",
       "<style scoped>\n",
       "    .dataframe tbody tr th:only-of-type {\n",
       "        vertical-align: middle;\n",
       "    }\n",
       "\n",
       "    .dataframe tbody tr th {\n",
       "        vertical-align: top;\n",
       "    }\n",
       "\n",
       "    .dataframe thead th {\n",
       "        text-align: right;\n",
       "    }\n",
       "</style>\n",
       "<table border=\"1\" class=\"dataframe\">\n",
       "  <thead>\n",
       "    <tr style=\"text-align: right;\">\n",
       "      <th></th>\n",
       "      <th>userId</th>\n",
       "      <th>movieId</th>\n",
       "      <th>rating</th>\n",
       "      <th>timestamp</th>\n",
       "      <th>title</th>\n",
       "      <th>genres</th>\n",
       "    </tr>\n",
       "  </thead>\n",
       "  <tbody>\n",
       "    <tr>\n",
       "      <th>48</th>\n",
       "      <td>810</td>\n",
       "      <td>1639</td>\n",
       "      <td>5.0</td>\n",
       "      <td>993238226</td>\n",
       "      <td>Chasing Amy (1997)</td>\n",
       "      <td>Comedy|Drama|Romance</td>\n",
       "    </tr>\n",
       "    <tr>\n",
       "      <th>53</th>\n",
       "      <td>810</td>\n",
       "      <td>1799</td>\n",
       "      <td>5.0</td>\n",
       "      <td>993238295</td>\n",
       "      <td>Suicide Kings (1997)</td>\n",
       "      <td>Comedy|Crime|Drama|Mystery|Thriller</td>\n",
       "    </tr>\n",
       "    <tr>\n",
       "      <th>75</th>\n",
       "      <td>810</td>\n",
       "      <td>2836</td>\n",
       "      <td>5.0</td>\n",
       "      <td>993237971</td>\n",
       "      <td>Outside Providence (1999)</td>\n",
       "      <td>Comedy</td>\n",
       "    </tr>\n",
       "    <tr>\n",
       "      <th>32</th>\n",
       "      <td>810</td>\n",
       "      <td>1246</td>\n",
       "      <td>5.0</td>\n",
       "      <td>993238643</td>\n",
       "      <td>Dead Poets Society (1989)</td>\n",
       "      <td>Drama</td>\n",
       "    </tr>\n",
       "    <tr>\n",
       "      <th>55</th>\n",
       "      <td>810</td>\n",
       "      <td>1961</td>\n",
       "      <td>5.0</td>\n",
       "      <td>993238699</td>\n",
       "      <td>Rain Man (1988)</td>\n",
       "      <td>Drama</td>\n",
       "    </tr>\n",
       "    <tr>\n",
       "      <th>43</th>\n",
       "      <td>810</td>\n",
       "      <td>1396</td>\n",
       "      <td>5.0</td>\n",
       "      <td>993238113</td>\n",
       "      <td>Sneakers (1992)</td>\n",
       "      <td>Action|Comedy|Crime|Drama|Sci-Fi</td>\n",
       "    </tr>\n",
       "    <tr>\n",
       "      <th>44</th>\n",
       "      <td>810</td>\n",
       "      <td>1500</td>\n",
       "      <td>5.0</td>\n",
       "      <td>993238500</td>\n",
       "      <td>Grosse Pointe Blank (1997)</td>\n",
       "      <td>Comedy|Crime|Romance</td>\n",
       "    </tr>\n",
       "    <tr>\n",
       "      <th>87</th>\n",
       "      <td>810</td>\n",
       "      <td>4041</td>\n",
       "      <td>5.0</td>\n",
       "      <td>993238873</td>\n",
       "      <td>Officer and a Gentleman, An (1982)</td>\n",
       "      <td>Drama|Romance</td>\n",
       "    </tr>\n",
       "    <tr>\n",
       "      <th>96</th>\n",
       "      <td>810</td>\n",
       "      <td>4308</td>\n",
       "      <td>5.0</td>\n",
       "      <td>993239018</td>\n",
       "      <td>Moulin Rouge (2001)</td>\n",
       "      <td>Drama|Musical|Romance</td>\n",
       "    </tr>\n",
       "    <tr>\n",
       "      <th>46</th>\n",
       "      <td>810</td>\n",
       "      <td>1617</td>\n",
       "      <td>5.0</td>\n",
       "      <td>993238310</td>\n",
       "      <td>L.A. Confidential (1997)</td>\n",
       "      <td>Crime|Film-Noir|Mystery|Thriller</td>\n",
       "    </tr>\n",
       "    <tr>\n",
       "      <th>2</th>\n",
       "      <td>810</td>\n",
       "      <td>47</td>\n",
       "      <td>5.0</td>\n",
       "      <td>993238419</td>\n",
       "      <td>Seven (a.k.a. Se7en) (1995)</td>\n",
       "      <td>Mystery|Thriller</td>\n",
       "    </tr>\n",
       "    <tr>\n",
       "      <th>3</th>\n",
       "      <td>810</td>\n",
       "      <td>50</td>\n",
       "      <td>5.0</td>\n",
       "      <td>993238155</td>\n",
       "      <td>Usual Suspects, The (1995)</td>\n",
       "      <td>Crime|Mystery|Thriller</td>\n",
       "    </tr>\n",
       "    <tr>\n",
       "      <th>72</th>\n",
       "      <td>810</td>\n",
       "      <td>2762</td>\n",
       "      <td>5.0</td>\n",
       "      <td>993238295</td>\n",
       "      <td>Sixth Sense, The (1999)</td>\n",
       "      <td>Drama|Horror|Mystery</td>\n",
       "    </tr>\n",
       "    <tr>\n",
       "      <th>51</th>\n",
       "      <td>810</td>\n",
       "      <td>1704</td>\n",
       "      <td>5.0</td>\n",
       "      <td>993238964</td>\n",
       "      <td>Good Will Hunting (1997)</td>\n",
       "      <td>Drama|Romance</td>\n",
       "    </tr>\n",
       "    <tr>\n",
       "      <th>69</th>\n",
       "      <td>810</td>\n",
       "      <td>2580</td>\n",
       "      <td>4.0</td>\n",
       "      <td>993238402</td>\n",
       "      <td>Go (1999)</td>\n",
       "      <td>Comedy|Crime</td>\n",
       "    </tr>\n",
       "    <tr>\n",
       "      <th>57</th>\n",
       "      <td>810</td>\n",
       "      <td>2000</td>\n",
       "      <td>4.0</td>\n",
       "      <td>993238768</td>\n",
       "      <td>Lethal Weapon (1987)</td>\n",
       "      <td>Action|Comedy|Crime|Drama</td>\n",
       "    </tr>\n",
       "    <tr>\n",
       "      <th>59</th>\n",
       "      <td>810</td>\n",
       "      <td>2161</td>\n",
       "      <td>4.0</td>\n",
       "      <td>993238873</td>\n",
       "      <td>NeverEnding Story, The (1984)</td>\n",
       "      <td>Adventure|Children|Fantasy</td>\n",
       "    </tr>\n",
       "    <tr>\n",
       "      <th>60</th>\n",
       "      <td>810</td>\n",
       "      <td>2248</td>\n",
       "      <td>4.0</td>\n",
       "      <td>993238643</td>\n",
       "      <td>Say Anything... (1989)</td>\n",
       "      <td>Comedy|Drama|Romance</td>\n",
       "    </tr>\n",
       "    <tr>\n",
       "      <th>56</th>\n",
       "      <td>810</td>\n",
       "      <td>1968</td>\n",
       "      <td>4.0</td>\n",
       "      <td>993238699</td>\n",
       "      <td>Breakfast Club, The (1985)</td>\n",
       "      <td>Comedy|Drama</td>\n",
       "    </tr>\n",
       "    <tr>\n",
       "      <th>62</th>\n",
       "      <td>810</td>\n",
       "      <td>2321</td>\n",
       "      <td>4.0</td>\n",
       "      <td>993238475</td>\n",
       "      <td>Pleasantville (1998)</td>\n",
       "      <td>Comedy|Drama|Fantasy</td>\n",
       "    </tr>\n",
       "  </tbody>\n",
       "</table>\n",
       "</div>"
      ],
      "text/plain": [
       "    userId  movieId  rating  timestamp                               title  \\\n",
       "48     810     1639     5.0  993238226                  Chasing Amy (1997)   \n",
       "53     810     1799     5.0  993238295                Suicide Kings (1997)   \n",
       "75     810     2836     5.0  993237971           Outside Providence (1999)   \n",
       "32     810     1246     5.0  993238643           Dead Poets Society (1989)   \n",
       "55     810     1961     5.0  993238699                     Rain Man (1988)   \n",
       "43     810     1396     5.0  993238113                     Sneakers (1992)   \n",
       "44     810     1500     5.0  993238500          Grosse Pointe Blank (1997)   \n",
       "87     810     4041     5.0  993238873  Officer and a Gentleman, An (1982)   \n",
       "96     810     4308     5.0  993239018                 Moulin Rouge (2001)   \n",
       "46     810     1617     5.0  993238310            L.A. Confidential (1997)   \n",
       "2      810       47     5.0  993238419         Seven (a.k.a. Se7en) (1995)   \n",
       "3      810       50     5.0  993238155          Usual Suspects, The (1995)   \n",
       "72     810     2762     5.0  993238295             Sixth Sense, The (1999)   \n",
       "51     810     1704     5.0  993238964            Good Will Hunting (1997)   \n",
       "69     810     2580     4.0  993238402                           Go (1999)   \n",
       "57     810     2000     4.0  993238768                Lethal Weapon (1987)   \n",
       "59     810     2161     4.0  993238873       NeverEnding Story, The (1984)   \n",
       "60     810     2248     4.0  993238643              Say Anything... (1989)   \n",
       "56     810     1968     4.0  993238699          Breakfast Club, The (1985)   \n",
       "62     810     2321     4.0  993238475                Pleasantville (1998)   \n",
       "\n",
       "                                 genres  \n",
       "48                 Comedy|Drama|Romance  \n",
       "53  Comedy|Crime|Drama|Mystery|Thriller  \n",
       "75                               Comedy  \n",
       "32                                Drama  \n",
       "55                                Drama  \n",
       "43     Action|Comedy|Crime|Drama|Sci-Fi  \n",
       "44                 Comedy|Crime|Romance  \n",
       "87                        Drama|Romance  \n",
       "96                Drama|Musical|Romance  \n",
       "46     Crime|Film-Noir|Mystery|Thriller  \n",
       "2                      Mystery|Thriller  \n",
       "3                Crime|Mystery|Thriller  \n",
       "72                 Drama|Horror|Mystery  \n",
       "51                        Drama|Romance  \n",
       "69                         Comedy|Crime  \n",
       "57            Action|Comedy|Crime|Drama  \n",
       "59           Adventure|Children|Fantasy  \n",
       "60                 Comedy|Drama|Romance  \n",
       "56                         Comedy|Drama  \n",
       "62                 Comedy|Drama|Fantasy  "
      ]
     },
     "execution_count": 46,
     "metadata": {},
     "output_type": "execute_result"
    }
   ],
   "source": [
    "# Top 20 movies\n",
    "already_rated.head(20)"
   ]
  },
  {
   "cell_type": "code",
   "execution_count": 47,
   "metadata": {
    "scrolled": true
   },
   "outputs": [
    {
     "data": {
      "text/html": [
       "<div>\n",
       "<style scoped>\n",
       "    .dataframe tbody tr th:only-of-type {\n",
       "        vertical-align: middle;\n",
       "    }\n",
       "\n",
       "    .dataframe tbody tr th {\n",
       "        vertical-align: top;\n",
       "    }\n",
       "\n",
       "    .dataframe thead th {\n",
       "        text-align: right;\n",
       "    }\n",
       "</style>\n",
       "<table border=\"1\" class=\"dataframe\">\n",
       "  <thead>\n",
       "    <tr style=\"text-align: right;\">\n",
       "      <th></th>\n",
       "      <th>movieId</th>\n",
       "      <th>title</th>\n",
       "      <th>genres</th>\n",
       "    </tr>\n",
       "  </thead>\n",
       "  <tbody>\n",
       "    <tr>\n",
       "      <th>4797</th>\n",
       "      <td>4993</td>\n",
       "      <td>Lord of the Rings: The Fellowship of the Ring,...</td>\n",
       "      <td>Adventure|Fantasy</td>\n",
       "    </tr>\n",
       "    <tr>\n",
       "      <th>5753</th>\n",
       "      <td>5952</td>\n",
       "      <td>Lord of the Rings: The Two Towers, The (2002)</td>\n",
       "      <td>Adventure|Fantasy</td>\n",
       "    </tr>\n",
       "    <tr>\n",
       "      <th>6941</th>\n",
       "      <td>7153</td>\n",
       "      <td>Lord of the Rings: The Return of the King, The...</td>\n",
       "      <td>Action|Adventure|Drama|Fantasy</td>\n",
       "    </tr>\n",
       "    <tr>\n",
       "      <th>3402</th>\n",
       "      <td>3578</td>\n",
       "      <td>Gladiator (2000)</td>\n",
       "      <td>Action|Adventure|Drama</td>\n",
       "    </tr>\n",
       "    <tr>\n",
       "      <th>2417</th>\n",
       "      <td>2571</td>\n",
       "      <td>Matrix, The (1999)</td>\n",
       "      <td>Action|Sci-Fi|Thriller</td>\n",
       "    </tr>\n",
       "    <tr>\n",
       "      <th>4767</th>\n",
       "      <td>4963</td>\n",
       "      <td>Ocean's Eleven (2001)</td>\n",
       "      <td>Crime|Thriller</td>\n",
       "    </tr>\n",
       "    <tr>\n",
       "      <th>4799</th>\n",
       "      <td>4995</td>\n",
       "      <td>Beautiful Mind, A (2001)</td>\n",
       "      <td>Drama|Romance</td>\n",
       "    </tr>\n",
       "    <tr>\n",
       "      <th>345</th>\n",
       "      <td>356</td>\n",
       "      <td>Forrest Gump (1994)</td>\n",
       "      <td>Comedy|Drama|Romance|War</td>\n",
       "    </tr>\n",
       "    <tr>\n",
       "      <th>6329</th>\n",
       "      <td>6539</td>\n",
       "      <td>Pirates of the Caribbean: The Curse of the Bla...</td>\n",
       "      <td>Action|Adventure|Comedy|Fantasy</td>\n",
       "    </tr>\n",
       "    <tr>\n",
       "      <th>5221</th>\n",
       "      <td>5418</td>\n",
       "      <td>Bourne Identity, The (2002)</td>\n",
       "      <td>Action|Mystery|Thriller</td>\n",
       "    </tr>\n",
       "    <tr>\n",
       "      <th>4777</th>\n",
       "      <td>4973</td>\n",
       "      <td>Amelie (Fabuleux destin d'Amélie Poulain, Le) ...</td>\n",
       "      <td>Comedy|Romance</td>\n",
       "    </tr>\n",
       "    <tr>\n",
       "      <th>4115</th>\n",
       "      <td>4306</td>\n",
       "      <td>Shrek (2001)</td>\n",
       "      <td>Adventure|Animation|Children|Comedy|Fantasy|Ro...</td>\n",
       "    </tr>\n",
       "    <tr>\n",
       "      <th>5152</th>\n",
       "      <td>5349</td>\n",
       "      <td>Spider-Man (2002)</td>\n",
       "      <td>Action|Adventure|Sci-Fi|Thriller</td>\n",
       "    </tr>\n",
       "    <tr>\n",
       "      <th>5790</th>\n",
       "      <td>5989</td>\n",
       "      <td>Catch Me If You Can (2002)</td>\n",
       "      <td>Crime|Drama</td>\n",
       "    </tr>\n",
       "    <tr>\n",
       "      <th>2979</th>\n",
       "      <td>3147</td>\n",
       "      <td>Green Mile, The (1999)</td>\n",
       "      <td>Crime|Drama</td>\n",
       "    </tr>\n",
       "    <tr>\n",
       "      <th>2176</th>\n",
       "      <td>2324</td>\n",
       "      <td>Life Is Beautiful (La Vita è bella) (1997)</td>\n",
       "      <td>Comedy|Drama|Romance|War</td>\n",
       "    </tr>\n",
       "    <tr>\n",
       "      <th>3841</th>\n",
       "      <td>4022</td>\n",
       "      <td>Cast Away (2000)</td>\n",
       "      <td>Drama</td>\n",
       "    </tr>\n",
       "    <tr>\n",
       "      <th>4700</th>\n",
       "      <td>4896</td>\n",
       "      <td>Harry Potter and the Sorcerer's Stone (a.k.a. ...</td>\n",
       "      <td>Adventure|Children|Fantasy</td>\n",
       "    </tr>\n",
       "    <tr>\n",
       "      <th>3815</th>\n",
       "      <td>3996</td>\n",
       "      <td>Crouching Tiger, Hidden Dragon (Wo hu cang lon...</td>\n",
       "      <td>Action|Drama|Romance</td>\n",
       "    </tr>\n",
       "    <tr>\n",
       "      <th>5617</th>\n",
       "      <td>5816</td>\n",
       "      <td>Harry Potter and the Chamber of Secrets (2002)</td>\n",
       "      <td>Adventure|Fantasy</td>\n",
       "    </tr>\n",
       "  </tbody>\n",
       "</table>\n",
       "</div>"
      ],
      "text/plain": [
       "      movieId                                              title  \\\n",
       "4797     4993  Lord of the Rings: The Fellowship of the Ring,...   \n",
       "5753     5952      Lord of the Rings: The Two Towers, The (2002)   \n",
       "6941     7153  Lord of the Rings: The Return of the King, The...   \n",
       "3402     3578                                   Gladiator (2000)   \n",
       "2417     2571                                 Matrix, The (1999)   \n",
       "4767     4963                              Ocean's Eleven (2001)   \n",
       "4799     4995                           Beautiful Mind, A (2001)   \n",
       "345       356                                Forrest Gump (1994)   \n",
       "6329     6539  Pirates of the Caribbean: The Curse of the Bla...   \n",
       "5221     5418                        Bourne Identity, The (2002)   \n",
       "4777     4973  Amelie (Fabuleux destin d'Amélie Poulain, Le) ...   \n",
       "4115     4306                                       Shrek (2001)   \n",
       "5152     5349                                  Spider-Man (2002)   \n",
       "5790     5989                         Catch Me If You Can (2002)   \n",
       "2979     3147                             Green Mile, The (1999)   \n",
       "2176     2324         Life Is Beautiful (La Vita è bella) (1997)   \n",
       "3841     4022                                   Cast Away (2000)   \n",
       "4700     4896  Harry Potter and the Sorcerer's Stone (a.k.a. ...   \n",
       "3815     3996  Crouching Tiger, Hidden Dragon (Wo hu cang lon...   \n",
       "5617     5816     Harry Potter and the Chamber of Secrets (2002)   \n",
       "\n",
       "                                                 genres  \n",
       "4797                                  Adventure|Fantasy  \n",
       "5753                                  Adventure|Fantasy  \n",
       "6941                     Action|Adventure|Drama|Fantasy  \n",
       "3402                             Action|Adventure|Drama  \n",
       "2417                             Action|Sci-Fi|Thriller  \n",
       "4767                                     Crime|Thriller  \n",
       "4799                                      Drama|Romance  \n",
       "345                            Comedy|Drama|Romance|War  \n",
       "6329                    Action|Adventure|Comedy|Fantasy  \n",
       "5221                            Action|Mystery|Thriller  \n",
       "4777                                     Comedy|Romance  \n",
       "4115  Adventure|Animation|Children|Comedy|Fantasy|Ro...  \n",
       "5152                   Action|Adventure|Sci-Fi|Thriller  \n",
       "5790                                        Crime|Drama  \n",
       "2979                                        Crime|Drama  \n",
       "2176                           Comedy|Drama|Romance|War  \n",
       "3841                                              Drama  \n",
       "4700                         Adventure|Children|Fantasy  \n",
       "3815                               Action|Drama|Romance  \n",
       "5617                                  Adventure|Fantasy  "
      ]
     },
     "execution_count": 47,
     "metadata": {},
     "output_type": "execute_result"
    }
   ],
   "source": [
    "# Top 20 movies that User 810 will enjoy\n",
    "predictions"
   ]
  },
  {
   "cell_type": "code",
   "execution_count": 51,
   "metadata": {},
   "outputs": [
    {
     "name": "stdout",
     "output_type": "stream",
     "text": [
      "User 1100 has already rated 48 movies.\n",
      "Recommending highest 20 predicted ratings movies not already rated.\n"
     ]
    }
   ],
   "source": [
    "already_rated, predictions = recommend_movies(preds, 1100, movie_names, ratings_data,20)"
   ]
  },
  {
   "cell_type": "code",
   "execution_count": 52,
   "metadata": {},
   "outputs": [
    {
     "data": {
      "text/html": [
       "<div>\n",
       "<style scoped>\n",
       "    .dataframe tbody tr th:only-of-type {\n",
       "        vertical-align: middle;\n",
       "    }\n",
       "\n",
       "    .dataframe tbody tr th {\n",
       "        vertical-align: top;\n",
       "    }\n",
       "\n",
       "    .dataframe thead th {\n",
       "        text-align: right;\n",
       "    }\n",
       "</style>\n",
       "<table border=\"1\" class=\"dataframe\">\n",
       "  <thead>\n",
       "    <tr style=\"text-align: right;\">\n",
       "      <th></th>\n",
       "      <th>userId</th>\n",
       "      <th>movieId</th>\n",
       "      <th>rating</th>\n",
       "      <th>timestamp</th>\n",
       "      <th>title</th>\n",
       "      <th>genres</th>\n",
       "    </tr>\n",
       "  </thead>\n",
       "  <tbody>\n",
       "    <tr>\n",
       "      <th>21</th>\n",
       "      <td>1100</td>\n",
       "      <td>288</td>\n",
       "      <td>5.0</td>\n",
       "      <td>837370706</td>\n",
       "      <td>Natural Born Killers (1994)</td>\n",
       "      <td>Action|Crime|Thriller</td>\n",
       "    </tr>\n",
       "    <tr>\n",
       "      <th>2</th>\n",
       "      <td>1100</td>\n",
       "      <td>21</td>\n",
       "      <td>5.0</td>\n",
       "      <td>837371093</td>\n",
       "      <td>Get Shorty (1995)</td>\n",
       "      <td>Comedy|Crime|Thriller</td>\n",
       "    </tr>\n",
       "    <tr>\n",
       "      <th>46</th>\n",
       "      <td>1100</td>\n",
       "      <td>593</td>\n",
       "      <td>5.0</td>\n",
       "      <td>837370612</td>\n",
       "      <td>Silence of the Lambs, The (1991)</td>\n",
       "      <td>Crime|Horror|Thriller</td>\n",
       "    </tr>\n",
       "    <tr>\n",
       "      <th>29</th>\n",
       "      <td>1100</td>\n",
       "      <td>319</td>\n",
       "      <td>5.0</td>\n",
       "      <td>837370936</td>\n",
       "      <td>Shallow Grave (1994)</td>\n",
       "      <td>Comedy|Drama|Thriller</td>\n",
       "    </tr>\n",
       "    <tr>\n",
       "      <th>25</th>\n",
       "      <td>1100</td>\n",
       "      <td>296</td>\n",
       "      <td>5.0</td>\n",
       "      <td>837369990</td>\n",
       "      <td>Pulp Fiction (1994)</td>\n",
       "      <td>Comedy|Crime|Drama|Thriller</td>\n",
       "    </tr>\n",
       "    <tr>\n",
       "      <th>22</th>\n",
       "      <td>1100</td>\n",
       "      <td>290</td>\n",
       "      <td>5.0</td>\n",
       "      <td>837370936</td>\n",
       "      <td>Once Were Warriors (1994)</td>\n",
       "      <td>Crime|Drama</td>\n",
       "    </tr>\n",
       "    <tr>\n",
       "      <th>0</th>\n",
       "      <td>1100</td>\n",
       "      <td>10</td>\n",
       "      <td>4.0</td>\n",
       "      <td>837370662</td>\n",
       "      <td>GoldenEye (1995)</td>\n",
       "      <td>Action|Adventure|Thriller</td>\n",
       "    </tr>\n",
       "    <tr>\n",
       "      <th>43</th>\n",
       "      <td>1100</td>\n",
       "      <td>589</td>\n",
       "      <td>4.0</td>\n",
       "      <td>837370990</td>\n",
       "      <td>Terminator 2: Judgment Day (1991)</td>\n",
       "      <td>Action|Sci-Fi</td>\n",
       "    </tr>\n",
       "    <tr>\n",
       "      <th>36</th>\n",
       "      <td>1100</td>\n",
       "      <td>380</td>\n",
       "      <td>4.0</td>\n",
       "      <td>837369993</td>\n",
       "      <td>True Lies (1994)</td>\n",
       "      <td>Action|Adventure|Comedy|Romance|Thriller</td>\n",
       "    </tr>\n",
       "    <tr>\n",
       "      <th>35</th>\n",
       "      <td>1100</td>\n",
       "      <td>367</td>\n",
       "      <td>4.0</td>\n",
       "      <td>837371135</td>\n",
       "      <td>Mask, The (1994)</td>\n",
       "      <td>Action|Comedy|Crime|Fantasy</td>\n",
       "    </tr>\n",
       "    <tr>\n",
       "      <th>34</th>\n",
       "      <td>1100</td>\n",
       "      <td>356</td>\n",
       "      <td>4.0</td>\n",
       "      <td>837370766</td>\n",
       "      <td>Forrest Gump (1994)</td>\n",
       "      <td>Comedy|Drama|Romance|War</td>\n",
       "    </tr>\n",
       "    <tr>\n",
       "      <th>30</th>\n",
       "      <td>1100</td>\n",
       "      <td>329</td>\n",
       "      <td>4.0</td>\n",
       "      <td>837370112</td>\n",
       "      <td>Star Trek: Generations (1994)</td>\n",
       "      <td>Adventure|Drama|Sci-Fi</td>\n",
       "    </tr>\n",
       "    <tr>\n",
       "      <th>26</th>\n",
       "      <td>1100</td>\n",
       "      <td>300</td>\n",
       "      <td>4.0</td>\n",
       "      <td>837370703</td>\n",
       "      <td>Quiz Show (1994)</td>\n",
       "      <td>Drama</td>\n",
       "    </tr>\n",
       "    <tr>\n",
       "      <th>47</th>\n",
       "      <td>1100</td>\n",
       "      <td>608</td>\n",
       "      <td>4.0</td>\n",
       "      <td>837370830</td>\n",
       "      <td>Fargo (1996)</td>\n",
       "      <td>Comedy|Crime|Drama|Thriller</td>\n",
       "    </tr>\n",
       "    <tr>\n",
       "      <th>3</th>\n",
       "      <td>1100</td>\n",
       "      <td>32</td>\n",
       "      <td>4.0</td>\n",
       "      <td>837370876</td>\n",
       "      <td>Twelve Monkeys (a.k.a. 12 Monkeys) (1995)</td>\n",
       "      <td>Mystery|Sci-Fi|Thriller</td>\n",
       "    </tr>\n",
       "    <tr>\n",
       "      <th>5</th>\n",
       "      <td>1100</td>\n",
       "      <td>39</td>\n",
       "      <td>4.0</td>\n",
       "      <td>837371135</td>\n",
       "      <td>Clueless (1995)</td>\n",
       "      <td>Comedy|Romance</td>\n",
       "    </tr>\n",
       "    <tr>\n",
       "      <th>7</th>\n",
       "      <td>1100</td>\n",
       "      <td>47</td>\n",
       "      <td>4.0</td>\n",
       "      <td>837370704</td>\n",
       "      <td>Seven (a.k.a. Se7en) (1995)</td>\n",
       "      <td>Mystery|Thriller</td>\n",
       "    </tr>\n",
       "    <tr>\n",
       "      <th>8</th>\n",
       "      <td>1100</td>\n",
       "      <td>50</td>\n",
       "      <td>4.0</td>\n",
       "      <td>837370830</td>\n",
       "      <td>Usual Suspects, The (1995)</td>\n",
       "      <td>Crime|Mystery|Thriller</td>\n",
       "    </tr>\n",
       "    <tr>\n",
       "      <th>14</th>\n",
       "      <td>1100</td>\n",
       "      <td>162</td>\n",
       "      <td>3.0</td>\n",
       "      <td>837370830</td>\n",
       "      <td>Crumb (1994)</td>\n",
       "      <td>Documentary</td>\n",
       "    </tr>\n",
       "    <tr>\n",
       "      <th>9</th>\n",
       "      <td>1100</td>\n",
       "      <td>110</td>\n",
       "      <td>3.0</td>\n",
       "      <td>837370705</td>\n",
       "      <td>Braveheart (1995)</td>\n",
       "      <td>Action|Drama|War</td>\n",
       "    </tr>\n",
       "  </tbody>\n",
       "</table>\n",
       "</div>"
      ],
      "text/plain": [
       "    userId  movieId  rating  timestamp  \\\n",
       "21    1100      288     5.0  837370706   \n",
       "2     1100       21     5.0  837371093   \n",
       "46    1100      593     5.0  837370612   \n",
       "29    1100      319     5.0  837370936   \n",
       "25    1100      296     5.0  837369990   \n",
       "22    1100      290     5.0  837370936   \n",
       "0     1100       10     4.0  837370662   \n",
       "43    1100      589     4.0  837370990   \n",
       "36    1100      380     4.0  837369993   \n",
       "35    1100      367     4.0  837371135   \n",
       "34    1100      356     4.0  837370766   \n",
       "30    1100      329     4.0  837370112   \n",
       "26    1100      300     4.0  837370703   \n",
       "47    1100      608     4.0  837370830   \n",
       "3     1100       32     4.0  837370876   \n",
       "5     1100       39     4.0  837371135   \n",
       "7     1100       47     4.0  837370704   \n",
       "8     1100       50     4.0  837370830   \n",
       "14    1100      162     3.0  837370830   \n",
       "9     1100      110     3.0  837370705   \n",
       "\n",
       "                                        title  \\\n",
       "21                Natural Born Killers (1994)   \n",
       "2                           Get Shorty (1995)   \n",
       "46           Silence of the Lambs, The (1991)   \n",
       "29                       Shallow Grave (1994)   \n",
       "25                        Pulp Fiction (1994)   \n",
       "22                  Once Were Warriors (1994)   \n",
       "0                            GoldenEye (1995)   \n",
       "43          Terminator 2: Judgment Day (1991)   \n",
       "36                           True Lies (1994)   \n",
       "35                           Mask, The (1994)   \n",
       "34                        Forrest Gump (1994)   \n",
       "30              Star Trek: Generations (1994)   \n",
       "26                           Quiz Show (1994)   \n",
       "47                               Fargo (1996)   \n",
       "3   Twelve Monkeys (a.k.a. 12 Monkeys) (1995)   \n",
       "5                             Clueless (1995)   \n",
       "7                 Seven (a.k.a. Se7en) (1995)   \n",
       "8                  Usual Suspects, The (1995)   \n",
       "14                               Crumb (1994)   \n",
       "9                           Braveheart (1995)   \n",
       "\n",
       "                                      genres  \n",
       "21                     Action|Crime|Thriller  \n",
       "2                      Comedy|Crime|Thriller  \n",
       "46                     Crime|Horror|Thriller  \n",
       "29                     Comedy|Drama|Thriller  \n",
       "25               Comedy|Crime|Drama|Thriller  \n",
       "22                               Crime|Drama  \n",
       "0                  Action|Adventure|Thriller  \n",
       "43                             Action|Sci-Fi  \n",
       "36  Action|Adventure|Comedy|Romance|Thriller  \n",
       "35               Action|Comedy|Crime|Fantasy  \n",
       "34                  Comedy|Drama|Romance|War  \n",
       "30                    Adventure|Drama|Sci-Fi  \n",
       "26                                     Drama  \n",
       "47               Comedy|Crime|Drama|Thriller  \n",
       "3                    Mystery|Sci-Fi|Thriller  \n",
       "5                             Comedy|Romance  \n",
       "7                           Mystery|Thriller  \n",
       "8                     Crime|Mystery|Thriller  \n",
       "14                               Documentary  \n",
       "9                           Action|Drama|War  "
      ]
     },
     "execution_count": 52,
     "metadata": {},
     "output_type": "execute_result"
    }
   ],
   "source": [
    "already_rated.head(20)"
   ]
  },
  {
   "cell_type": "code",
   "execution_count": 53,
   "metadata": {},
   "outputs": [
    {
     "data": {
      "text/html": [
       "<div>\n",
       "<style scoped>\n",
       "    .dataframe tbody tr th:only-of-type {\n",
       "        vertical-align: middle;\n",
       "    }\n",
       "\n",
       "    .dataframe tbody tr th {\n",
       "        vertical-align: top;\n",
       "    }\n",
       "\n",
       "    .dataframe thead th {\n",
       "        text-align: right;\n",
       "    }\n",
       "</style>\n",
       "<table border=\"1\" class=\"dataframe\">\n",
       "  <thead>\n",
       "    <tr style=\"text-align: right;\">\n",
       "      <th></th>\n",
       "      <th>movieId</th>\n",
       "      <th>title</th>\n",
       "      <th>genres</th>\n",
       "    </tr>\n",
       "  </thead>\n",
       "  <tbody>\n",
       "    <tr>\n",
       "      <th>6993</th>\n",
       "      <td>7153</td>\n",
       "      <td>Lord of the Rings: The Return of the King, The...</td>\n",
       "      <td>Action|Adventure|Drama|Fantasy</td>\n",
       "    </tr>\n",
       "    <tr>\n",
       "      <th>5805</th>\n",
       "      <td>5952</td>\n",
       "      <td>Lord of the Rings: The Two Towers, The (2002)</td>\n",
       "      <td>Adventure|Fantasy</td>\n",
       "    </tr>\n",
       "    <tr>\n",
       "      <th>1121</th>\n",
       "      <td>1193</td>\n",
       "      <td>One Flew Over the Cuckoo's Nest (1975)</td>\n",
       "      <td>Drama</td>\n",
       "    </tr>\n",
       "    <tr>\n",
       "      <th>4849</th>\n",
       "      <td>4993</td>\n",
       "      <td>Lord of the Rings: The Fellowship of the Ring,...</td>\n",
       "      <td>Adventure|Fantasy</td>\n",
       "    </tr>\n",
       "    <tr>\n",
       "      <th>2825</th>\n",
       "      <td>2959</td>\n",
       "      <td>Fight Club (1999)</td>\n",
       "      <td>Action|Crime|Drama|Thriller</td>\n",
       "    </tr>\n",
       "    <tr>\n",
       "      <th>1132</th>\n",
       "      <td>1206</td>\n",
       "      <td>Clockwork Orange, A (1971)</td>\n",
       "      <td>Crime|Drama|Sci-Fi|Thriller</td>\n",
       "    </tr>\n",
       "    <tr>\n",
       "      <th>795</th>\n",
       "      <td>858</td>\n",
       "      <td>Godfather, The (1972)</td>\n",
       "      <td>Crime|Drama</td>\n",
       "    </tr>\n",
       "    <tr>\n",
       "      <th>1065</th>\n",
       "      <td>1136</td>\n",
       "      <td>Monty Python and the Holy Grail (1975)</td>\n",
       "      <td>Adventure|Comedy|Fantasy</td>\n",
       "    </tr>\n",
       "    <tr>\n",
       "      <th>4084</th>\n",
       "      <td>4226</td>\n",
       "      <td>Memento (2000)</td>\n",
       "      <td>Mystery|Thriller</td>\n",
       "    </tr>\n",
       "    <tr>\n",
       "      <th>839</th>\n",
       "      <td>904</td>\n",
       "      <td>Rear Window (1954)</td>\n",
       "      <td>Mystery|Thriller</td>\n",
       "    </tr>\n",
       "    <tr>\n",
       "      <th>12477</th>\n",
       "      <td>58559</td>\n",
       "      <td>Dark Knight, The (2008)</td>\n",
       "      <td>Action|Crime|Drama|IMAX</td>\n",
       "    </tr>\n",
       "    <tr>\n",
       "      <th>1145</th>\n",
       "      <td>1219</td>\n",
       "      <td>Psycho (1960)</td>\n",
       "      <td>Crime|Horror</td>\n",
       "    </tr>\n",
       "    <tr>\n",
       "      <th>859</th>\n",
       "      <td>924</td>\n",
       "      <td>2001: A Space Odyssey (1968)</td>\n",
       "      <td>Adventure|Drama|Sci-Fi</td>\n",
       "    </tr>\n",
       "    <tr>\n",
       "      <th>858</th>\n",
       "      <td>923</td>\n",
       "      <td>Citizen Kane (1941)</td>\n",
       "      <td>Drama|Mystery</td>\n",
       "    </tr>\n",
       "    <tr>\n",
       "      <th>10121</th>\n",
       "      <td>33794</td>\n",
       "      <td>Batman Begins (2005)</td>\n",
       "      <td>Action|Crime|IMAX</td>\n",
       "    </tr>\n",
       "    <tr>\n",
       "      <th>1010</th>\n",
       "      <td>1080</td>\n",
       "      <td>Monty Python's Life of Brian (1979)</td>\n",
       "      <td>Comedy</td>\n",
       "    </tr>\n",
       "    <tr>\n",
       "      <th>2628</th>\n",
       "      <td>2762</td>\n",
       "      <td>Sixth Sense, The (1999)</td>\n",
       "      <td>Drama|Horror|Mystery</td>\n",
       "    </tr>\n",
       "    <tr>\n",
       "      <th>1140</th>\n",
       "      <td>1214</td>\n",
       "      <td>Alien (1979)</td>\n",
       "      <td>Horror|Sci-Fi</td>\n",
       "    </tr>\n",
       "    <tr>\n",
       "      <th>689</th>\n",
       "      <td>750</td>\n",
       "      <td>Dr. Strangelove or: How I Learned to Stop Worr...</td>\n",
       "      <td>Comedy|War</td>\n",
       "    </tr>\n",
       "    <tr>\n",
       "      <th>1126</th>\n",
       "      <td>1199</td>\n",
       "      <td>Brazil (1985)</td>\n",
       "      <td>Fantasy|Sci-Fi</td>\n",
       "    </tr>\n",
       "  </tbody>\n",
       "</table>\n",
       "</div>"
      ],
      "text/plain": [
       "       movieId                                              title  \\\n",
       "6993      7153  Lord of the Rings: The Return of the King, The...   \n",
       "5805      5952      Lord of the Rings: The Two Towers, The (2002)   \n",
       "1121      1193             One Flew Over the Cuckoo's Nest (1975)   \n",
       "4849      4993  Lord of the Rings: The Fellowship of the Ring,...   \n",
       "2825      2959                                  Fight Club (1999)   \n",
       "1132      1206                         Clockwork Orange, A (1971)   \n",
       "795        858                              Godfather, The (1972)   \n",
       "1065      1136             Monty Python and the Holy Grail (1975)   \n",
       "4084      4226                                     Memento (2000)   \n",
       "839        904                                 Rear Window (1954)   \n",
       "12477    58559                            Dark Knight, The (2008)   \n",
       "1145      1219                                      Psycho (1960)   \n",
       "859        924                       2001: A Space Odyssey (1968)   \n",
       "858        923                                Citizen Kane (1941)   \n",
       "10121    33794                               Batman Begins (2005)   \n",
       "1010      1080                Monty Python's Life of Brian (1979)   \n",
       "2628      2762                            Sixth Sense, The (1999)   \n",
       "1140      1214                                       Alien (1979)   \n",
       "689        750  Dr. Strangelove or: How I Learned to Stop Worr...   \n",
       "1126      1199                                      Brazil (1985)   \n",
       "\n",
       "                               genres  \n",
       "6993   Action|Adventure|Drama|Fantasy  \n",
       "5805                Adventure|Fantasy  \n",
       "1121                            Drama  \n",
       "4849                Adventure|Fantasy  \n",
       "2825      Action|Crime|Drama|Thriller  \n",
       "1132      Crime|Drama|Sci-Fi|Thriller  \n",
       "795                       Crime|Drama  \n",
       "1065         Adventure|Comedy|Fantasy  \n",
       "4084                 Mystery|Thriller  \n",
       "839                  Mystery|Thriller  \n",
       "12477         Action|Crime|Drama|IMAX  \n",
       "1145                     Crime|Horror  \n",
       "859            Adventure|Drama|Sci-Fi  \n",
       "858                     Drama|Mystery  \n",
       "10121               Action|Crime|IMAX  \n",
       "1010                           Comedy  \n",
       "2628             Drama|Horror|Mystery  \n",
       "1140                    Horror|Sci-Fi  \n",
       "689                        Comedy|War  \n",
       "1126                   Fantasy|Sci-Fi  "
      ]
     },
     "execution_count": 53,
     "metadata": {},
     "output_type": "execute_result"
    }
   ],
   "source": [
    "predictions"
   ]
  },
  {
   "cell_type": "code",
   "execution_count": null,
   "metadata": {},
   "outputs": [],
   "source": []
  },
  {
   "cell_type": "code",
   "execution_count": 88,
   "metadata": {},
   "outputs": [],
   "source": [
    "from sklearn.model_selection import train_test_split\n",
    "from sklearn import datasets\n",
    "from sklearn import svm\n",
    "from sklearn.model_selection import cross_validate\n",
    "\n",
    "\n",
    "train_data, test_data = train_test_split(Ratings, test_size=0.3)"
   ]
  },
  {
   "cell_type": "code",
   "execution_count": 89,
   "metadata": {},
   "outputs": [],
   "source": [
    "# Create two user-item matrices, one for training and another for testing\n",
    "train_data_matrix = train_data.values\n",
    "test_data_matrix = test_data.values"
   ]
  },
  {
   "cell_type": "code",
   "execution_count": 90,
   "metadata": {},
   "outputs": [],
   "source": [
    "from sklearn.metrics.pairwise import pairwise_distances\n",
    "\n",
    "# User Similarity Matrix\n",
    "user_correlation = 1 - pairwise_distances(train_data, metric='correlation')\n",
    "user_correlation[np.isnan(user_correlation)] = 0\n",
    "# Item Similarity Matrix\n",
    "item_correlation = 1 - pairwise_distances(train_data_matrix.T, metric='correlation')\n",
    "item_correlation[np.isnan(item_correlation)] = 0"
   ]
  },
  {
   "cell_type": "code",
   "execution_count": 91,
   "metadata": {},
   "outputs": [],
   "source": [
    "# Function to predict ratings\n",
    "def predict(ratings, similarity, type='user'):\n",
    "    if type == 'user':\n",
    "        mean_user_rating = ratings.mean(axis=1)\n",
    "        # Use np.newaxis so that mean_user_rating has same format as ratings\n",
    "        ratings_diff = (ratings - mean_user_rating[:, np.newaxis])\n",
    "        pred = mean_user_rating[:, np.newaxis] + similarity.dot(ratings_diff) / np.array([np.abs(similarity).sum(axis=1)]).T\n",
    "    elif type == 'item':\n",
    "        pred = ratings.dot(similarity) / np.array([np.abs(similarity).sum(axis=1)])\n",
    "    return pred"
   ]
  },
  {
   "cell_type": "code",
   "execution_count": 92,
   "metadata": {},
   "outputs": [
    {
     "name": "stdout",
     "output_type": "stream",
     "text": [
      "User-based CF RMSE: 2.7501251498817356\n",
      "Item-based CF RMSE: 2.990641478787692\n"
     ]
    }
   ],
   "source": [
    "from sklearn.metrics import mean_squared_error\n",
    "from math import sqrt\n",
    "\n",
    "# Function to calculate RMSE\n",
    "def rmse(pred, actual):\n",
    "    # Ignore nonzero terms.\n",
    "    pred = pred[actual.nonzero()].flatten()\n",
    "    actual = actual[actual.nonzero()].flatten()\n",
    "    return sqrt(mean_squared_error(pred, actual))\n",
    "# Predict ratings on the training data with both similarity score\n",
    "user_prediction = predict(train_data_matrix, user_correlation, type='user')\n",
    "item_prediction = predict(train_data_matrix, item_correlation, type='item')\n",
    "# RMSE on the train data\n",
    "print('User-based CF RMSE: ' + str(rmse(user_prediction, train_data_matrix)))\n",
    "print('Item-based CF RMSE: ' + str(rmse(item_prediction, train_data_matrix)))"
   ]
  },
  {
   "cell_type": "code",
   "execution_count": null,
   "metadata": {},
   "outputs": [],
   "source": []
  }
 ],
 "metadata": {
  "kernelspec": {
   "display_name": "Python 3",
   "language": "python",
   "name": "python3"
  },
  "language_info": {
   "codemirror_mode": {
    "name": "ipython",
    "version": 3
   },
   "file_extension": ".py",
   "mimetype": "text/x-python",
   "name": "python",
   "nbconvert_exporter": "python",
   "pygments_lexer": "ipython3",
   "version": "3.8.3"
  }
 },
 "nbformat": 4,
 "nbformat_minor": 4
}
