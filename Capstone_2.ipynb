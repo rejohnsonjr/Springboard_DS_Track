{
 "cells": [
  {
   "cell_type": "markdown",
   "metadata": {},
   "source": [
    "## Problem Statement\n",
    "### Once books pass their release windows, they tend to fall off the radar of book readers unless the author releases a new book.  What is good way to recommend old and new books to people. \n",
    "\n",
    "## Prospective Clients\n",
    "### •\tBook Retailers - The most obvious potential beneficiaries, book retailers, online or terrestrial,  could utilize this analysis to optimize multiple aspects of its strategy, from where to place certain products in the store, when to make changes, which marketing strategies are most effective, and which customer cohorts are most profitable. \n",
    "### •\tBook Publishers – This information can be used to better identify the demographic breakdown of each book genre reader. \n",
    "### •\tAuthors – This information will allow them to get a better idea of the demand for various types of book genres.\n",
    "\n",
    "## Approach\n",
    "### Description of specific models to be used will be refined as I progress through this project. I will use deep learning, TensorFlow and Keras to build a recommendation model."
   ]
  },
  {
   "cell_type": "code",
   "execution_count": 1,
   "metadata": {},
   "outputs": [],
   "source": [
    "import numpy as np\n",
    "import math\n",
    "import pandas as pd\n",
    "import os, time, re\n",
    "import pickle, gzip, datetime\n",
    "import matplotlib.pyplot as plt\n",
    "import seaborn as sns\n",
    "color = sns.color_palette()\n",
    "import matplotlib as mpl\n",
    "import glob\n",
    "os.getcwd()\n",
    "%matplotlib inline"
   ]
  },
  {
   "cell_type": "code",
   "execution_count": 2,
   "metadata": {},
   "outputs": [],
   "source": [
    "#data prep and model evaluation\n",
    "\n",
    "from sklearn import preprocessing as pp\n",
    "from sklearn.model_selection import train_test_split\n",
    "from sklearn.model_selection import StratifiedKFold\n",
    "from sklearn.metrics import log_loss\n",
    "from sklearn.decomposition import FactorAnalysis\n",
    "from sklearn.metrics import precision_recall_curve, average_precision_score\n",
    "from sklearn.metrics import roc_curve, auc, roc_auc_score, mean_squared_error\n",
    "import lightgbm as lgb"
   ]
  },
  {
   "cell_type": "code",
   "execution_count": 3,
   "metadata": {},
   "outputs": [
    {
     "name": "stderr",
     "output_type": "stream",
     "text": [
      "Using TensorFlow backend.\n"
     ]
    },
    {
     "name": "stdout",
     "output_type": "stream",
     "text": [
      "WARNING:tensorflow:From C:\\ProgramData\\Anaconda3\\lib\\site-packages\\tensorflow_core\\python\\compat\\v2_compat.py:88: disable_resource_variables (from tensorflow.python.ops.variable_scope) is deprecated and will be removed in a future version.\n",
      "Instructions for updating:\n",
      "non-resource variables are not supported in the long term\n"
     ]
    }
   ],
   "source": [
    "#TensorFlow and Keras\n",
    "\n",
    "import tensorflow as tf\n",
    "import keras\n",
    "from keras import backend as K\n",
    "from keras.models import Sequential, Model\n",
    "from keras.layers import Activation, Dense, Dropout\n",
    "from keras.layers import BatchNormalization, Input, Lambda, Embedding, Flatten\n",
    "from keras import regularizers\n",
    "from keras.losses import mse, binary_crossentropy\n",
    "import tensorflow.compat.v1 as tf\n",
    "tf.disable_v2_behavior() "
   ]
  },
  {
   "cell_type": "markdown",
   "metadata": {},
   "source": [
    "## I am adding the three csv files"
   ]
  },
  {
   "cell_type": "code",
   "execution_count": 4,
   "metadata": {},
   "outputs": [
    {
     "name": "stderr",
     "output_type": "stream",
     "text": [
      "b'Skipping line 6452: expected 8 fields, saw 9\\nSkipping line 43667: expected 8 fields, saw 10\\nSkipping line 51751: expected 8 fields, saw 9\\n'\n",
      "b'Skipping line 92038: expected 8 fields, saw 9\\nSkipping line 104319: expected 8 fields, saw 9\\nSkipping line 121768: expected 8 fields, saw 9\\n'\n",
      "b'Skipping line 144058: expected 8 fields, saw 9\\nSkipping line 150789: expected 8 fields, saw 9\\nSkipping line 157128: expected 8 fields, saw 9\\nSkipping line 180189: expected 8 fields, saw 9\\nSkipping line 185738: expected 8 fields, saw 9\\n'\n",
      "b'Skipping line 209388: expected 8 fields, saw 9\\nSkipping line 220626: expected 8 fields, saw 9\\nSkipping line 227933: expected 8 fields, saw 11\\nSkipping line 228957: expected 8 fields, saw 10\\nSkipping line 245933: expected 8 fields, saw 9\\nSkipping line 251296: expected 8 fields, saw 9\\nSkipping line 259941: expected 8 fields, saw 9\\nSkipping line 261529: expected 8 fields, saw 9\\n'\n",
      "C:\\ProgramData\\Anaconda3\\lib\\site-packages\\IPython\\core\\interactiveshell.py:3063: DtypeWarning: Columns (3) have mixed types.Specify dtype option on import or set low_memory=False.\n",
      "  interactivity=interactivity, compiler=compiler, result=result)\n"
     ]
    }
   ],
   "source": [
    "ratings = pd.read_csv(\"C:/Users/Rob's Surface/Desktop/BX/BX-Book-Ratings.csv\", error_bad_lines=False, delimiter=';', encoding = 'ISO-8859-1')\n",
    "books = pd.read_csv(\"C:/Users/Rob's Surface/Desktop/BX/BX-Books.csv\", error_bad_lines=False, delimiter=';', encoding = 'ISO-8859-1')\n",
    "users = pd.read_csv(\"C:/Users/Rob's Surface/Desktop/BX/BX-Users.csv\", error_bad_lines=False, delimiter=';', encoding = 'ISO-8859-1')"
   ]
  },
  {
   "cell_type": "markdown",
   "metadata": {},
   "source": [
    "## Here I merge the three files into one document"
   ]
  },
  {
   "cell_type": "code",
   "execution_count": 5,
   "metadata": {},
   "outputs": [],
   "source": [
    "data = pd.merge(ratings, users, on='User-ID', how='inner')"
   ]
  },
  {
   "cell_type": "code",
   "execution_count": 6,
   "metadata": {},
   "outputs": [],
   "source": [
    "data = pd.merge(data, books, on='ISBN', how='inner')"
   ]
  },
  {
   "cell_type": "markdown",
   "metadata": {},
   "source": [
    "## Here let us explore the data"
   ]
  },
  {
   "cell_type": "code",
   "execution_count": 7,
   "metadata": {},
   "outputs": [
    {
     "data": {
      "text/plain": [
       "Index(['User-ID', 'ISBN', 'Book-Rating', 'Location', 'Age', 'Book-Title',\n",
       "       'Book-Author', 'Year-Of-Publication', 'Publisher', 'Image-URL-S',\n",
       "       'Image-URL-M', 'Image-URL-L'],\n",
       "      dtype='object')"
      ]
     },
     "execution_count": 7,
     "metadata": {},
     "output_type": "execute_result"
    }
   ],
   "source": [
    "data.columns"
   ]
  },
  {
   "cell_type": "code",
   "execution_count": 8,
   "metadata": {},
   "outputs": [
    {
     "data": {
      "text/plain": [
       "(1031136, 12)"
      ]
     },
     "execution_count": 8,
     "metadata": {},
     "output_type": "execute_result"
    }
   ],
   "source": [
    "data.shape"
   ]
  },
  {
   "cell_type": "code",
   "execution_count": 9,
   "metadata": {},
   "outputs": [
    {
     "data": {
      "text/html": [
       "<div>\n",
       "<style scoped>\n",
       "    .dataframe tbody tr th:only-of-type {\n",
       "        vertical-align: middle;\n",
       "    }\n",
       "\n",
       "    .dataframe tbody tr th {\n",
       "        vertical-align: top;\n",
       "    }\n",
       "\n",
       "    .dataframe thead th {\n",
       "        text-align: right;\n",
       "    }\n",
       "</style>\n",
       "<table border=\"1\" class=\"dataframe\">\n",
       "  <thead>\n",
       "    <tr style=\"text-align: right;\">\n",
       "      <th></th>\n",
       "      <th>User-ID</th>\n",
       "      <th>ISBN</th>\n",
       "      <th>Book-Rating</th>\n",
       "      <th>Location</th>\n",
       "      <th>Age</th>\n",
       "      <th>Book-Title</th>\n",
       "      <th>Book-Author</th>\n",
       "      <th>Year-Of-Publication</th>\n",
       "      <th>Publisher</th>\n",
       "      <th>Image-URL-S</th>\n",
       "      <th>Image-URL-M</th>\n",
       "      <th>Image-URL-L</th>\n",
       "    </tr>\n",
       "  </thead>\n",
       "  <tbody>\n",
       "    <tr>\n",
       "      <th>0</th>\n",
       "      <td>276725</td>\n",
       "      <td>034545104X</td>\n",
       "      <td>0</td>\n",
       "      <td>tyler, texas, usa</td>\n",
       "      <td>NaN</td>\n",
       "      <td>Flesh Tones: A Novel</td>\n",
       "      <td>M. J. Rose</td>\n",
       "      <td>2002</td>\n",
       "      <td>Ballantine Books</td>\n",
       "      <td>http://images.amazon.com/images/P/034545104X.0...</td>\n",
       "      <td>http://images.amazon.com/images/P/034545104X.0...</td>\n",
       "      <td>http://images.amazon.com/images/P/034545104X.0...</td>\n",
       "    </tr>\n",
       "    <tr>\n",
       "      <th>1</th>\n",
       "      <td>2313</td>\n",
       "      <td>034545104X</td>\n",
       "      <td>5</td>\n",
       "      <td>cincinnati, ohio, usa</td>\n",
       "      <td>23.0</td>\n",
       "      <td>Flesh Tones: A Novel</td>\n",
       "      <td>M. J. Rose</td>\n",
       "      <td>2002</td>\n",
       "      <td>Ballantine Books</td>\n",
       "      <td>http://images.amazon.com/images/P/034545104X.0...</td>\n",
       "      <td>http://images.amazon.com/images/P/034545104X.0...</td>\n",
       "      <td>http://images.amazon.com/images/P/034545104X.0...</td>\n",
       "    </tr>\n",
       "    <tr>\n",
       "      <th>2</th>\n",
       "      <td>6543</td>\n",
       "      <td>034545104X</td>\n",
       "      <td>0</td>\n",
       "      <td>strafford, missouri, usa</td>\n",
       "      <td>34.0</td>\n",
       "      <td>Flesh Tones: A Novel</td>\n",
       "      <td>M. J. Rose</td>\n",
       "      <td>2002</td>\n",
       "      <td>Ballantine Books</td>\n",
       "      <td>http://images.amazon.com/images/P/034545104X.0...</td>\n",
       "      <td>http://images.amazon.com/images/P/034545104X.0...</td>\n",
       "      <td>http://images.amazon.com/images/P/034545104X.0...</td>\n",
       "    </tr>\n",
       "    <tr>\n",
       "      <th>3</th>\n",
       "      <td>8680</td>\n",
       "      <td>034545104X</td>\n",
       "      <td>5</td>\n",
       "      <td>st. charles county, missouri, usa</td>\n",
       "      <td>2.0</td>\n",
       "      <td>Flesh Tones: A Novel</td>\n",
       "      <td>M. J. Rose</td>\n",
       "      <td>2002</td>\n",
       "      <td>Ballantine Books</td>\n",
       "      <td>http://images.amazon.com/images/P/034545104X.0...</td>\n",
       "      <td>http://images.amazon.com/images/P/034545104X.0...</td>\n",
       "      <td>http://images.amazon.com/images/P/034545104X.0...</td>\n",
       "    </tr>\n",
       "    <tr>\n",
       "      <th>4</th>\n",
       "      <td>10314</td>\n",
       "      <td>034545104X</td>\n",
       "      <td>9</td>\n",
       "      <td>beaverton, oregon, usa</td>\n",
       "      <td>NaN</td>\n",
       "      <td>Flesh Tones: A Novel</td>\n",
       "      <td>M. J. Rose</td>\n",
       "      <td>2002</td>\n",
       "      <td>Ballantine Books</td>\n",
       "      <td>http://images.amazon.com/images/P/034545104X.0...</td>\n",
       "      <td>http://images.amazon.com/images/P/034545104X.0...</td>\n",
       "      <td>http://images.amazon.com/images/P/034545104X.0...</td>\n",
       "    </tr>\n",
       "  </tbody>\n",
       "</table>\n",
       "</div>"
      ],
      "text/plain": [
       "   User-ID        ISBN  Book-Rating                           Location   Age  \\\n",
       "0   276725  034545104X            0                  tyler, texas, usa   NaN   \n",
       "1     2313  034545104X            5              cincinnati, ohio, usa  23.0   \n",
       "2     6543  034545104X            0           strafford, missouri, usa  34.0   \n",
       "3     8680  034545104X            5  st. charles county, missouri, usa   2.0   \n",
       "4    10314  034545104X            9             beaverton, oregon, usa   NaN   \n",
       "\n",
       "             Book-Title Book-Author Year-Of-Publication         Publisher  \\\n",
       "0  Flesh Tones: A Novel  M. J. Rose                2002  Ballantine Books   \n",
       "1  Flesh Tones: A Novel  M. J. Rose                2002  Ballantine Books   \n",
       "2  Flesh Tones: A Novel  M. J. Rose                2002  Ballantine Books   \n",
       "3  Flesh Tones: A Novel  M. J. Rose                2002  Ballantine Books   \n",
       "4  Flesh Tones: A Novel  M. J. Rose                2002  Ballantine Books   \n",
       "\n",
       "                                         Image-URL-S  \\\n",
       "0  http://images.amazon.com/images/P/034545104X.0...   \n",
       "1  http://images.amazon.com/images/P/034545104X.0...   \n",
       "2  http://images.amazon.com/images/P/034545104X.0...   \n",
       "3  http://images.amazon.com/images/P/034545104X.0...   \n",
       "4  http://images.amazon.com/images/P/034545104X.0...   \n",
       "\n",
       "                                         Image-URL-M  \\\n",
       "0  http://images.amazon.com/images/P/034545104X.0...   \n",
       "1  http://images.amazon.com/images/P/034545104X.0...   \n",
       "2  http://images.amazon.com/images/P/034545104X.0...   \n",
       "3  http://images.amazon.com/images/P/034545104X.0...   \n",
       "4  http://images.amazon.com/images/P/034545104X.0...   \n",
       "\n",
       "                                         Image-URL-L  \n",
       "0  http://images.amazon.com/images/P/034545104X.0...  \n",
       "1  http://images.amazon.com/images/P/034545104X.0...  \n",
       "2  http://images.amazon.com/images/P/034545104X.0...  \n",
       "3  http://images.amazon.com/images/P/034545104X.0...  \n",
       "4  http://images.amazon.com/images/P/034545104X.0...  "
      ]
     },
     "execution_count": 9,
     "metadata": {},
     "output_type": "execute_result"
    }
   ],
   "source": [
    "data.head(5)"
   ]
  },
  {
   "cell_type": "markdown",
   "metadata": {},
   "source": [
    "## I dropped the colums with the picture links"
   ]
  },
  {
   "cell_type": "code",
   "execution_count": 10,
   "metadata": {},
   "outputs": [],
   "source": [
    "no_pic = ['Image-URL-S', 'Image-URL-M', 'Image-URL-L']\n",
    "\n",
    "data = data.drop(no_pic, axis=1, inplace=False)"
   ]
  },
  {
   "cell_type": "code",
   "execution_count": 11,
   "metadata": {},
   "outputs": [
    {
     "name": "stdout",
     "output_type": "stream",
     "text": [
      "<class 'pandas.core.frame.DataFrame'>\n",
      "Int64Index: 1031136 entries, 0 to 1031135\n",
      "Data columns (total 9 columns):\n",
      " #   Column               Non-Null Count    Dtype  \n",
      "---  ------               --------------    -----  \n",
      " 0   User-ID              1031136 non-null  int64  \n",
      " 1   ISBN                 1031136 non-null  object \n",
      " 2   Book-Rating          1031136 non-null  int64  \n",
      " 3   Location             1031136 non-null  object \n",
      " 4   Age                  753301 non-null   float64\n",
      " 5   Book-Title           1031136 non-null  object \n",
      " 6   Book-Author          1031135 non-null  object \n",
      " 7   Year-Of-Publication  1031136 non-null  object \n",
      " 8   Publisher            1031134 non-null  object \n",
      "dtypes: float64(1), int64(2), object(6)\n",
      "memory usage: 78.7+ MB\n"
     ]
    }
   ],
   "source": [
    "data.info()"
   ]
  },
  {
   "cell_type": "markdown",
   "metadata": {},
   "source": [
    "## Next I changed the data types to allow them to be used in my model "
   ]
  },
  {
   "cell_type": "code",
   "execution_count": 12,
   "metadata": {},
   "outputs": [],
   "source": [
    "data['UserID'] = data['User-ID'].astype(str).astype(int)\n",
    "data['ISBN'] = data['ISBN'].astype(str)\n",
    "data['ISBN'] = data['ISBN'].str.replace(r'[^\\d.]+', '')\n",
    "data['ISBN'] = data['ISBN'].astype(str).astype('int64')\n",
    "data['BookRating'] = data['Book-Rating'].astype(str).astype(float)"
   ]
  },
  {
   "cell_type": "code",
   "execution_count": 13,
   "metadata": {},
   "outputs": [
    {
     "name": "stdout",
     "output_type": "stream",
     "text": [
      "<class 'pandas.core.frame.DataFrame'>\n",
      "Int64Index: 1031136 entries, 0 to 1031135\n",
      "Data columns (total 11 columns):\n",
      " #   Column               Non-Null Count    Dtype  \n",
      "---  ------               --------------    -----  \n",
      " 0   User-ID              1031136 non-null  int64  \n",
      " 1   ISBN                 1031136 non-null  int64  \n",
      " 2   Book-Rating          1031136 non-null  int64  \n",
      " 3   Location             1031136 non-null  object \n",
      " 4   Age                  753301 non-null   float64\n",
      " 5   Book-Title           1031136 non-null  object \n",
      " 6   Book-Author          1031135 non-null  object \n",
      " 7   Year-Of-Publication  1031136 non-null  object \n",
      " 8   Publisher            1031134 non-null  object \n",
      " 9   UserID               1031136 non-null  int32  \n",
      " 10  BookRating           1031136 non-null  float64\n",
      "dtypes: float64(2), int32(1), int64(3), object(5)\n",
      "memory usage: 90.5+ MB\n"
     ]
    }
   ],
   "source": [
    "data.info()"
   ]
  },
  {
   "cell_type": "code",
   "execution_count": 14,
   "metadata": {},
   "outputs": [
    {
     "data": {
      "text/html": [
       "<div>\n",
       "<style scoped>\n",
       "    .dataframe tbody tr th:only-of-type {\n",
       "        vertical-align: middle;\n",
       "    }\n",
       "\n",
       "    .dataframe tbody tr th {\n",
       "        vertical-align: top;\n",
       "    }\n",
       "\n",
       "    .dataframe thead th {\n",
       "        text-align: right;\n",
       "    }\n",
       "</style>\n",
       "<table border=\"1\" class=\"dataframe\">\n",
       "  <thead>\n",
       "    <tr style=\"text-align: right;\">\n",
       "      <th></th>\n",
       "      <th>User-ID</th>\n",
       "      <th>ISBN</th>\n",
       "      <th>Book-Rating</th>\n",
       "      <th>Location</th>\n",
       "      <th>Age</th>\n",
       "      <th>Book-Title</th>\n",
       "      <th>Book-Author</th>\n",
       "      <th>Year-Of-Publication</th>\n",
       "      <th>Publisher</th>\n",
       "      <th>UserID</th>\n",
       "      <th>BookRating</th>\n",
       "    </tr>\n",
       "  </thead>\n",
       "  <tbody>\n",
       "    <tr>\n",
       "      <th>0</th>\n",
       "      <td>276725</td>\n",
       "      <td>34545104</td>\n",
       "      <td>0</td>\n",
       "      <td>tyler, texas, usa</td>\n",
       "      <td>NaN</td>\n",
       "      <td>Flesh Tones: A Novel</td>\n",
       "      <td>M. J. Rose</td>\n",
       "      <td>2002</td>\n",
       "      <td>Ballantine Books</td>\n",
       "      <td>276725</td>\n",
       "      <td>0.0</td>\n",
       "    </tr>\n",
       "    <tr>\n",
       "      <th>1</th>\n",
       "      <td>2313</td>\n",
       "      <td>34545104</td>\n",
       "      <td>5</td>\n",
       "      <td>cincinnati, ohio, usa</td>\n",
       "      <td>23.0</td>\n",
       "      <td>Flesh Tones: A Novel</td>\n",
       "      <td>M. J. Rose</td>\n",
       "      <td>2002</td>\n",
       "      <td>Ballantine Books</td>\n",
       "      <td>2313</td>\n",
       "      <td>5.0</td>\n",
       "    </tr>\n",
       "    <tr>\n",
       "      <th>2</th>\n",
       "      <td>6543</td>\n",
       "      <td>34545104</td>\n",
       "      <td>0</td>\n",
       "      <td>strafford, missouri, usa</td>\n",
       "      <td>34.0</td>\n",
       "      <td>Flesh Tones: A Novel</td>\n",
       "      <td>M. J. Rose</td>\n",
       "      <td>2002</td>\n",
       "      <td>Ballantine Books</td>\n",
       "      <td>6543</td>\n",
       "      <td>0.0</td>\n",
       "    </tr>\n",
       "    <tr>\n",
       "      <th>3</th>\n",
       "      <td>8680</td>\n",
       "      <td>34545104</td>\n",
       "      <td>5</td>\n",
       "      <td>st. charles county, missouri, usa</td>\n",
       "      <td>2.0</td>\n",
       "      <td>Flesh Tones: A Novel</td>\n",
       "      <td>M. J. Rose</td>\n",
       "      <td>2002</td>\n",
       "      <td>Ballantine Books</td>\n",
       "      <td>8680</td>\n",
       "      <td>5.0</td>\n",
       "    </tr>\n",
       "    <tr>\n",
       "      <th>4</th>\n",
       "      <td>10314</td>\n",
       "      <td>34545104</td>\n",
       "      <td>9</td>\n",
       "      <td>beaverton, oregon, usa</td>\n",
       "      <td>NaN</td>\n",
       "      <td>Flesh Tones: A Novel</td>\n",
       "      <td>M. J. Rose</td>\n",
       "      <td>2002</td>\n",
       "      <td>Ballantine Books</td>\n",
       "      <td>10314</td>\n",
       "      <td>9.0</td>\n",
       "    </tr>\n",
       "  </tbody>\n",
       "</table>\n",
       "</div>"
      ],
      "text/plain": [
       "   User-ID      ISBN  Book-Rating                           Location   Age  \\\n",
       "0   276725  34545104            0                  tyler, texas, usa   NaN   \n",
       "1     2313  34545104            5              cincinnati, ohio, usa  23.0   \n",
       "2     6543  34545104            0           strafford, missouri, usa  34.0   \n",
       "3     8680  34545104            5  st. charles county, missouri, usa   2.0   \n",
       "4    10314  34545104            9             beaverton, oregon, usa   NaN   \n",
       "\n",
       "             Book-Title Book-Author Year-Of-Publication         Publisher  \\\n",
       "0  Flesh Tones: A Novel  M. J. Rose                2002  Ballantine Books   \n",
       "1  Flesh Tones: A Novel  M. J. Rose                2002  Ballantine Books   \n",
       "2  Flesh Tones: A Novel  M. J. Rose                2002  Ballantine Books   \n",
       "3  Flesh Tones: A Novel  M. J. Rose                2002  Ballantine Books   \n",
       "4  Flesh Tones: A Novel  M. J. Rose                2002  Ballantine Books   \n",
       "\n",
       "   UserID  BookRating  \n",
       "0  276725         0.0  \n",
       "1    2313         5.0  \n",
       "2    6543         0.0  \n",
       "3    8680         5.0  \n",
       "4   10314         9.0  "
      ]
     },
     "execution_count": 14,
     "metadata": {},
     "output_type": "execute_result"
    }
   ],
   "source": [
    "data.head()"
   ]
  },
  {
   "cell_type": "markdown",
   "metadata": {},
   "source": [
    "## More data exploring and cleaning\n",
    "\n",
    "### Age is very skewed and needs to be normalized"
   ]
  },
  {
   "cell_type": "code",
   "execution_count": 15,
   "metadata": {},
   "outputs": [
    {
     "data": {
      "image/png": "[encoded data removed]",
      "text/plain": [
       "<Figure size 432x288 with 1 Axes>"
      ]
     },
     "metadata": {
      "needs_background": "light"
     },
     "output_type": "display_data"
    }
   ],
   "source": [
    "sns.distplot(data['Age'].dropna(), kde=False);"
   ]
  },
  {
   "cell_type": "markdown",
   "metadata": {},
   "source": [
    "## To normalize the average book rating I will replace 0 with none"
   ]
  },
  {
   "cell_type": "code",
   "execution_count": 16,
   "metadata": {},
   "outputs": [],
   "source": [
    "data['BookRating'] = data['BookRating'].replace(0, None)"
   ]
  },
  {
   "cell_type": "code",
   "execution_count": 17,
   "metadata": {},
   "outputs": [
    {
     "data": {
      "image/png": "[encoded data removed]",
      "text/plain": [
       "<Figure size 432x288 with 1 Axes>"
      ]
     },
     "metadata": {
      "needs_background": "light"
     },
     "output_type": "display_data"
    }
   ],
   "source": [
    "sns.countplot(x='BookRating', data=data);"
   ]
  },
  {
   "cell_type": "code",
   "execution_count": 18,
   "metadata": {},
   "outputs": [
    {
     "name": "stdout",
     "output_type": "stream",
     "text": [
      "Average book rating:  7.55\n"
     ]
    }
   ],
   "source": [
    "print('Average book rating: ', round(data['BookRating'].mean(), 2))"
   ]
  },
  {
   "cell_type": "markdown",
   "metadata": {},
   "source": [
    "## Book orgin grouped by country"
   ]
  },
  {
   "cell_type": "code",
   "execution_count": 19,
   "metadata": {},
   "outputs": [
    {
     "data": {
      "text/plain": [
       "Location\n",
       " usa               746466\n",
       " canada             93000\n",
       " united kingdom     33072\n",
       " germany            27657\n",
       "                    24259\n",
       " australia          18238\n",
       " spain              14968\n",
       " n/a                11177\n",
       " france             10639\n",
       " portugal            6980\n",
       "Name: BookRating, dtype: int64"
      ]
     },
     "execution_count": 19,
     "metadata": {},
     "output_type": "execute_result"
    }
   ],
   "source": [
    "country = data['Location'].apply(lambda row: str(row).split(',')[-1])\n",
    "data.groupby(country)['BookRating'].count().sort_values(ascending=False).head(10)"
   ]
  },
  {
   "cell_type": "markdown",
   "metadata": {},
   "source": [
    "##  The year column covers a wide but has very few entries for some years"
   ]
  },
  {
   "cell_type": "code",
   "execution_count": 20,
   "metadata": {},
   "outputs": [
    {
     "data": {
      "image/png": "[encoded data removed]",
      "text/plain": [
       "<Figure size 432x288 with 1 Axes>"
      ]
     },
     "metadata": {
      "needs_background": "light"
     },
     "output_type": "display_data"
    }
   ],
   "source": [
    "year = pd.to_numeric(data['Year-Of-Publication'], errors='coerce').fillna(2099, downcast = 'infer')\n",
    "sns.distplot(year, kde=False, hist_kws={\"range\": [1945,2020]});"
   ]
  },
  {
   "cell_type": "code",
   "execution_count": 21,
   "metadata": {},
   "outputs": [],
   "source": [
    "data['Year-Of-Publication'] = pd.to_numeric(data['Year-Of-Publication'], 'coerce').fillna(2099, downcast = 'infer')"
   ]
  },
  {
   "cell_type": "markdown",
   "metadata": {},
   "source": [
    "## The book is older than 90 years old will be marked as none"
   ]
  },
  {
   "cell_type": "code",
   "execution_count": 22,
   "metadata": {},
   "outputs": [],
   "source": [
    "data['Age'] = np.where(data['Age']>90, None, data['Age'])"
   ]
  },
  {
   "cell_type": "code",
   "execution_count": 23,
   "metadata": {},
   "outputs": [],
   "source": [
    "data[['Book-Author', 'Publisher']] = data[['Book-Author', 'Publisher']].fillna('Unknown')"
   ]
  },
  {
   "cell_type": "markdown",
   "metadata": {},
   "source": [
    "##  Next I will replace a null ages with a random number based of median age and age standard deviation"
   ]
  },
  {
   "cell_type": "code",
   "execution_count": 24,
   "metadata": {},
   "outputs": [],
   "source": [
    "median = data[\"Age\"].median()\n",
    "std = data[\"Age\"].std()\n",
    "is_null = data[\"Age\"].isnull().sum()\n",
    "rand_age = np.random.randint(median - std, median + std, size = is_null)\n",
    "age_slice = data[\"Age\"].copy()\n",
    "age_slice[pd.isnull(age_slice)] = rand_age\n",
    "data[\"Age\"] = age_slice\n",
    "data[\"Age\"] = data[\"Age\"].astype(int)"
   ]
  },
  {
   "cell_type": "code",
   "execution_count": 25,
   "metadata": {},
   "outputs": [
    {
     "data": {
      "text/plain": [
       "0"
      ]
     },
     "execution_count": 25,
     "metadata": {},
     "output_type": "execute_result"
    }
   ],
   "source": [
    "data['Age'].isnull().sum()"
   ]
  },
  {
   "cell_type": "markdown",
   "metadata": {},
   "source": [
    "## Now N/A Authors and Publishers will be replaced with unknown"
   ]
  },
  {
   "cell_type": "code",
   "execution_count": 26,
   "metadata": {},
   "outputs": [],
   "source": [
    "data[['Book-Author', 'Publisher']] = data[['Book-Author', 'Publisher']].fillna('Unknown')"
   ]
  },
  {
   "cell_type": "code",
   "execution_count": 27,
   "metadata": {},
   "outputs": [
    {
     "data": {
      "text/plain": [
       "Book-Author    0\n",
       "Publisher      0\n",
       "dtype: int64"
      ]
     },
     "execution_count": 27,
     "metadata": {},
     "output_type": "execute_result"
    }
   ],
   "source": [
    "data[['Book-Author', 'Publisher']].isnull().sum()"
   ]
  },
  {
   "cell_type": "code",
   "execution_count": 28,
   "metadata": {},
   "outputs": [
    {
     "data": {
      "image/png": "[encoded data removed]",
      "text/plain": [
       "<Figure size 432x288 with 2 Axes>"
      ]
     },
     "metadata": {
      "needs_background": "light"
     },
     "output_type": "display_data"
    }
   ],
   "source": [
    "corrMatrix = data.corr()\n",
    "sns.heatmap(corrMatrix, annot=True)\n",
    "plt.show()"
   ]
  },
  {
   "cell_type": "markdown",
   "metadata": {},
   "source": [
    "## Now I will determine the unique number of entries that will make up the training and test data sets"
   ]
  },
  {
   "cell_type": "code",
   "execution_count": 29,
   "metadata": {},
   "outputs": [],
   "source": [
    "n_users = data['UserID'].unique().shape[0]\n",
    "n_books = data['ISBN'].unique().shape[0]\n",
    "n_ratings = len(data)\n",
    "avg_ratings_per_user = n_ratings/n_users"
   ]
  },
  {
   "cell_type": "code",
   "execution_count": 30,
   "metadata": {},
   "outputs": [
    {
     "name": "stdout",
     "output_type": "stream",
     "text": [
      "Number of unique users 92106\n",
      "Number of unique books 269784\n",
      "Total number of ratings 1031136\n",
      "Average number of ratings per user 11.195101296332487\n"
     ]
    }
   ],
   "source": [
    "print('Number of unique users', n_users)\n",
    "print('Number of unique books', n_books)\n",
    "print('Total number of ratings', n_ratings)\n",
    "print('Average number of ratings per user', avg_ratings_per_user)"
   ]
  },
  {
   "cell_type": "code",
   "execution_count": 161,
   "metadata": {
    "scrolled": true
   },
   "outputs": [],
   "source": [
    "#bookIndex = data.groupby(\"ISBN\").count().sort_values(by=\"BookRating\", ascending=False)[0:1200].index\n",
    "#ratingX2 = data[data.ISBN.isin(bookIndex)]\n",
    "#ratingX2.count()\n",
    "\n",
    "#userIndex = ratingX2.groupby('UserID').count().sort_values(by=\"BookRating\", ascending=False).sample(n=1200, random_state=88).index\n",
    "#ratingX3 = ratingX2[ratingX2.UserID.isin(userIndex)]\n",
    "#ratingX3.count()\n",
    "\n",
    "#books = ratingX3.ISBN.unique()\n",
    "#booksDF = pd.DataFrame(data=books, columns=['orginalISBN'])\n",
    "#booksDF['newISBN'] = booksDF.index+1\n",
    "\n",
    "#users = ratingX3.ISBN.unique()\n",
    "#usersDF = pd.DataFrame(data=users, columns=['orginalUserID'])\n",
    "#usersDF['newUserID'] = usersDF.index+1\n",
    "\n",
    "#ratingX3 = ratingX3.merge(booksDF, left_on='ISBN',  right_on='orginalISBN')\n",
    "\n",
    "#ratingX3.drop(labels='orginalISBN', axis=1, inplace=True)\n",
    "\n",
    "#ratingX3 = ratingX3.merge(usersDF, left_on='UserID', right_on='orginalUserID')\n",
    "\n",
    "#ratingX3.drop(labels='orginalUserID', axis=1, inplace=True)"
   ]
  },
  {
   "cell_type": "code",
   "execution_count": 31,
   "metadata": {},
   "outputs": [],
   "source": [
    "#bookIndex = data.groupby(\"ISBN\").count().sort_values(by=\"BookRating\", ascending=False)[0:1200].index\n",
    "#ratingX2 = data[data.ISBN.isin(bookIndex)]\n",
    "#ratingX2.count()\n",
    "\n",
    "userIndex = data.groupby('UserID').count().sort_values(by=\"BookRating\", ascending=False).sample(n=1200, random_state=88).index\n",
    "ratingX3 = data[data.UserID.isin(userIndex)]\n",
    "ratingX3.count()\n",
    "\n",
    "books = ratingX3.ISBN.unique()\n",
    "booksDF = pd.DataFrame(data=books, columns=['orginalISBN'])\n",
    "booksDF['newISBN'] = booksDF.index+1\n",
    "\n",
    "users = ratingX3.ISBN.unique()\n",
    "usersDF = pd.DataFrame(data=users, columns=['orginalUserID'])\n",
    "usersDF['newUserID'] = usersDF.index+1\n",
    "\n",
    "ratingX3 = ratingX3.merge(booksDF, left_on='ISBN',  right_on='orginalISBN')\n",
    "\n",
    "ratingX3.drop(labels='orginalISBN', axis=1, inplace=True)\n",
    "\n",
    "#ratingX3 = ratingX3.merge(usersDF, left_on='UserID', right_on='orginalUserID')\n",
    "\n",
    "#ratingX3.drop(labels='orginalUserID', axis=1, inplace=True)"
   ]
  },
  {
   "cell_type": "code",
   "execution_count": 38,
   "metadata": {},
   "outputs": [
    {
     "data": {
      "text/plain": [
       "array([  34545104,  446520802,   38550120, ..., 1861052928, 1931561206,\n",
       "       8401322677], dtype=int64)"
      ]
     },
     "execution_count": 38,
     "metadata": {},
     "output_type": "execute_result"
    }
   ],
   "source": [
    "users"
   ]
  },
  {
   "cell_type": "code",
   "execution_count": 39,
   "metadata": {},
   "outputs": [
    {
     "data": {
      "text/html": [
       "<div>\n",
       "<style scoped>\n",
       "    .dataframe tbody tr th:only-of-type {\n",
       "        vertical-align: middle;\n",
       "    }\n",
       "\n",
       "    .dataframe tbody tr th {\n",
       "        vertical-align: top;\n",
       "    }\n",
       "\n",
       "    .dataframe thead th {\n",
       "        text-align: right;\n",
       "    }\n",
       "</style>\n",
       "<table border=\"1\" class=\"dataframe\">\n",
       "  <thead>\n",
       "    <tr style=\"text-align: right;\">\n",
       "      <th></th>\n",
       "      <th>orginalUserID</th>\n",
       "      <th>newUserID</th>\n",
       "    </tr>\n",
       "  </thead>\n",
       "  <tbody>\n",
       "    <tr>\n",
       "      <th>0</th>\n",
       "      <td>34545104</td>\n",
       "      <td>1</td>\n",
       "    </tr>\n",
       "    <tr>\n",
       "      <th>1</th>\n",
       "      <td>446520802</td>\n",
       "      <td>2</td>\n",
       "    </tr>\n",
       "    <tr>\n",
       "      <th>2</th>\n",
       "      <td>38550120</td>\n",
       "      <td>3</td>\n",
       "    </tr>\n",
       "    <tr>\n",
       "      <th>3</th>\n",
       "      <td>425115801</td>\n",
       "      <td>4</td>\n",
       "    </tr>\n",
       "    <tr>\n",
       "      <th>4</th>\n",
       "      <td>449006522</td>\n",
       "      <td>5</td>\n",
       "    </tr>\n",
       "    <tr>\n",
       "      <th>...</th>\n",
       "      <td>...</td>\n",
       "      <td>...</td>\n",
       "    </tr>\n",
       "    <tr>\n",
       "      <th>11679</th>\n",
       "      <td>963517716</td>\n",
       "      <td>11680</td>\n",
       "    </tr>\n",
       "    <tr>\n",
       "      <th>11680</th>\n",
       "      <td>79226620</td>\n",
       "      <td>11681</td>\n",
       "    </tr>\n",
       "    <tr>\n",
       "      <th>11681</th>\n",
       "      <td>1861052928</td>\n",
       "      <td>11682</td>\n",
       "    </tr>\n",
       "    <tr>\n",
       "      <th>11682</th>\n",
       "      <td>1931561206</td>\n",
       "      <td>11683</td>\n",
       "    </tr>\n",
       "    <tr>\n",
       "      <th>11683</th>\n",
       "      <td>8401322677</td>\n",
       "      <td>11684</td>\n",
       "    </tr>\n",
       "  </tbody>\n",
       "</table>\n",
       "<p>11684 rows × 2 columns</p>\n",
       "</div>"
      ],
      "text/plain": [
       "       orginalUserID  newUserID\n",
       "0           34545104          1\n",
       "1          446520802          2\n",
       "2           38550120          3\n",
       "3          425115801          4\n",
       "4          449006522          5\n",
       "...              ...        ...\n",
       "11679      963517716      11680\n",
       "11680       79226620      11681\n",
       "11681     1861052928      11682\n",
       "11682     1931561206      11683\n",
       "11683     8401322677      11684\n",
       "\n",
       "[11684 rows x 2 columns]"
      ]
     },
     "execution_count": 39,
     "metadata": {},
     "output_type": "execute_result"
    }
   ],
   "source": [
    "usersDF"
   ]
  },
  {
   "cell_type": "code",
   "execution_count": 40,
   "metadata": {},
   "outputs": [
    {
     "data": {
      "text/html": [
       "<div>\n",
       "<style scoped>\n",
       "    .dataframe tbody tr th:only-of-type {\n",
       "        vertical-align: middle;\n",
       "    }\n",
       "\n",
       "    .dataframe tbody tr th {\n",
       "        vertical-align: top;\n",
       "    }\n",
       "\n",
       "    .dataframe thead th {\n",
       "        text-align: right;\n",
       "    }\n",
       "</style>\n",
       "<table border=\"1\" class=\"dataframe\">\n",
       "  <thead>\n",
       "    <tr style=\"text-align: right;\">\n",
       "      <th></th>\n",
       "      <th>User-ID</th>\n",
       "      <th>ISBN</th>\n",
       "      <th>Book-Rating</th>\n",
       "      <th>Location</th>\n",
       "      <th>Age</th>\n",
       "      <th>Book-Title</th>\n",
       "      <th>Book-Author</th>\n",
       "      <th>Year-Of-Publication</th>\n",
       "      <th>Publisher</th>\n",
       "      <th>UserID</th>\n",
       "      <th>BookRating</th>\n",
       "      <th>newISBN</th>\n",
       "    </tr>\n",
       "  </thead>\n",
       "  <tbody>\n",
       "    <tr>\n",
       "      <th>0</th>\n",
       "      <td>115435</td>\n",
       "      <td>34545104</td>\n",
       "      <td>5</td>\n",
       "      <td>cincinnati, ohio, usa</td>\n",
       "      <td>30</td>\n",
       "      <td>Flesh Tones: A Novel</td>\n",
       "      <td>M. J. Rose</td>\n",
       "      <td>2002</td>\n",
       "      <td>Ballantine Books</td>\n",
       "      <td>115435</td>\n",
       "      <td>5.0</td>\n",
       "      <td>1</td>\n",
       "    </tr>\n",
       "    <tr>\n",
       "      <th>1</th>\n",
       "      <td>113340</td>\n",
       "      <td>446520802</td>\n",
       "      <td>0</td>\n",
       "      <td>franklin, virginia, usa</td>\n",
       "      <td>37</td>\n",
       "      <td>The Notebook</td>\n",
       "      <td>Nicholas Sparks</td>\n",
       "      <td>1996</td>\n",
       "      <td>Warner Books</td>\n",
       "      <td>113340</td>\n",
       "      <td>9.0</td>\n",
       "      <td>2</td>\n",
       "    </tr>\n",
       "    <tr>\n",
       "      <th>2</th>\n",
       "      <td>151002</td>\n",
       "      <td>446520802</td>\n",
       "      <td>0</td>\n",
       "      <td>burkburnett, texas, usa</td>\n",
       "      <td>30</td>\n",
       "      <td>The Notebook</td>\n",
       "      <td>Nicholas Sparks</td>\n",
       "      <td>1996</td>\n",
       "      <td>Warner Books</td>\n",
       "      <td>151002</td>\n",
       "      <td>7.0</td>\n",
       "      <td>2</td>\n",
       "    </tr>\n",
       "    <tr>\n",
       "      <th>3</th>\n",
       "      <td>53614</td>\n",
       "      <td>38550120</td>\n",
       "      <td>8</td>\n",
       "      <td>barreiro, barreiro, portugal</td>\n",
       "      <td>30</td>\n",
       "      <td>A Painted House</td>\n",
       "      <td>JOHN GRISHAM</td>\n",
       "      <td>2001</td>\n",
       "      <td>Doubleday</td>\n",
       "      <td>53614</td>\n",
       "      <td>8.0</td>\n",
       "      <td>3</td>\n",
       "    </tr>\n",
       "    <tr>\n",
       "      <th>4</th>\n",
       "      <td>115435</td>\n",
       "      <td>38550120</td>\n",
       "      <td>8</td>\n",
       "      <td>cincinnati, ohio, usa</td>\n",
       "      <td>30</td>\n",
       "      <td>A Painted House</td>\n",
       "      <td>JOHN GRISHAM</td>\n",
       "      <td>2001</td>\n",
       "      <td>Doubleday</td>\n",
       "      <td>115435</td>\n",
       "      <td>8.0</td>\n",
       "      <td>3</td>\n",
       "    </tr>\n",
       "    <tr>\n",
       "      <th>...</th>\n",
       "      <td>...</td>\n",
       "      <td>...</td>\n",
       "      <td>...</td>\n",
       "      <td>...</td>\n",
       "      <td>...</td>\n",
       "      <td>...</td>\n",
       "      <td>...</td>\n",
       "      <td>...</td>\n",
       "      <td>...</td>\n",
       "      <td>...</td>\n",
       "      <td>...</td>\n",
       "      <td>...</td>\n",
       "    </tr>\n",
       "    <tr>\n",
       "      <th>14176</th>\n",
       "      <td>272838</td>\n",
       "      <td>963517716</td>\n",
       "      <td>5</td>\n",
       "      <td>new york, new york, usa</td>\n",
       "      <td>24</td>\n",
       "      <td>Computer Legends, Lies &amp;amp; Lore</td>\n",
       "      <td>Iris Forrest</td>\n",
       "      <td>1994</td>\n",
       "      <td>Ageless Pr</td>\n",
       "      <td>272838</td>\n",
       "      <td>5.0</td>\n",
       "      <td>11680</td>\n",
       "    </tr>\n",
       "    <tr>\n",
       "      <th>14177</th>\n",
       "      <td>275274</td>\n",
       "      <td>79226620</td>\n",
       "      <td>0</td>\n",
       "      <td>oviedo, florida, usa</td>\n",
       "      <td>47</td>\n",
       "      <td>The Journals of Lewis and Clark</td>\n",
       "      <td>Meriwether Lewis</td>\n",
       "      <td>2002</td>\n",
       "      <td>National Geographic Adventure Classics</td>\n",
       "      <td>275274</td>\n",
       "      <td>4.0</td>\n",
       "      <td>11681</td>\n",
       "    </tr>\n",
       "    <tr>\n",
       "      <th>14178</th>\n",
       "      <td>275274</td>\n",
       "      <td>1861052928</td>\n",
       "      <td>0</td>\n",
       "      <td>oviedo, florida, usa</td>\n",
       "      <td>47</td>\n",
       "      <td>Football's Strangest Matches: Extraordinary bu...</td>\n",
       "      <td>Andrew Ward</td>\n",
       "      <td>2000</td>\n",
       "      <td>Robson Books</td>\n",
       "      <td>275274</td>\n",
       "      <td>4.0</td>\n",
       "      <td>11682</td>\n",
       "    </tr>\n",
       "    <tr>\n",
       "      <th>14179</th>\n",
       "      <td>275274</td>\n",
       "      <td>1931561206</td>\n",
       "      <td>0</td>\n",
       "      <td>oviedo, florida, usa</td>\n",
       "      <td>47</td>\n",
       "      <td>Sparrowhawk II: Hugh Kenrick</td>\n",
       "      <td>Edward Cline</td>\n",
       "      <td>2002</td>\n",
       "      <td>MacAdam/Cage Publishing</td>\n",
       "      <td>275274</td>\n",
       "      <td>4.0</td>\n",
       "      <td>11683</td>\n",
       "    </tr>\n",
       "    <tr>\n",
       "      <th>14180</th>\n",
       "      <td>275717</td>\n",
       "      <td>8401322677</td>\n",
       "      <td>7</td>\n",
       "      <td>el campello, alicante, spain</td>\n",
       "      <td>44</td>\n",
       "      <td>Los pecados de InÃ©s de Hinojosa (Exitos)</td>\n",
       "      <td>PrÃ³spero Morales Pradilla</td>\n",
       "      <td>1989</td>\n",
       "      <td>Plaza &amp;amp; JanÃ©s</td>\n",
       "      <td>275717</td>\n",
       "      <td>7.0</td>\n",
       "      <td>11684</td>\n",
       "    </tr>\n",
       "  </tbody>\n",
       "</table>\n",
       "<p>14181 rows × 12 columns</p>\n",
       "</div>"
      ],
      "text/plain": [
       "       User-ID        ISBN  Book-Rating                      Location  Age  \\\n",
       "0       115435    34545104            5         cincinnati, ohio, usa   30   \n",
       "1       113340   446520802            0       franklin, virginia, usa   37   \n",
       "2       151002   446520802            0       burkburnett, texas, usa   30   \n",
       "3        53614    38550120            8  barreiro, barreiro, portugal   30   \n",
       "4       115435    38550120            8         cincinnati, ohio, usa   30   \n",
       "...        ...         ...          ...                           ...  ...   \n",
       "14176   272838   963517716            5       new york, new york, usa   24   \n",
       "14177   275274    79226620            0          oviedo, florida, usa   47   \n",
       "14178   275274  1861052928            0          oviedo, florida, usa   47   \n",
       "14179   275274  1931561206            0          oviedo, florida, usa   47   \n",
       "14180   275717  8401322677            7  el campello, alicante, spain   44   \n",
       "\n",
       "                                              Book-Title  \\\n",
       "0                                   Flesh Tones: A Novel   \n",
       "1                                           The Notebook   \n",
       "2                                           The Notebook   \n",
       "3                                        A Painted House   \n",
       "4                                        A Painted House   \n",
       "...                                                  ...   \n",
       "14176                  Computer Legends, Lies &amp; Lore   \n",
       "14177                    The Journals of Lewis and Clark   \n",
       "14178  Football's Strangest Matches: Extraordinary bu...   \n",
       "14179                       Sparrowhawk II: Hugh Kenrick   \n",
       "14180          Los pecados de InÃ©s de Hinojosa (Exitos)   \n",
       "\n",
       "                      Book-Author  Year-Of-Publication  \\\n",
       "0                      M. J. Rose                 2002   \n",
       "1                 Nicholas Sparks                 1996   \n",
       "2                 Nicholas Sparks                 1996   \n",
       "3                    JOHN GRISHAM                 2001   \n",
       "4                    JOHN GRISHAM                 2001   \n",
       "...                           ...                  ...   \n",
       "14176                Iris Forrest                 1994   \n",
       "14177            Meriwether Lewis                 2002   \n",
       "14178                 Andrew Ward                 2000   \n",
       "14179                Edward Cline                 2002   \n",
       "14180  PrÃ³spero Morales Pradilla                 1989   \n",
       "\n",
       "                                    Publisher  UserID  BookRating  newISBN  \n",
       "0                            Ballantine Books  115435         5.0        1  \n",
       "1                                Warner Books  113340         9.0        2  \n",
       "2                                Warner Books  151002         7.0        2  \n",
       "3                                   Doubleday   53614         8.0        3  \n",
       "4                                   Doubleday  115435         8.0        3  \n",
       "...                                       ...     ...         ...      ...  \n",
       "14176                              Ageless Pr  272838         5.0    11680  \n",
       "14177  National Geographic Adventure Classics  275274         4.0    11681  \n",
       "14178                            Robson Books  275274         4.0    11682  \n",
       "14179                 MacAdam/Cage Publishing  275274         4.0    11683  \n",
       "14180                      Plaza &amp; JanÃ©s  275717         7.0    11684  \n",
       "\n",
       "[14181 rows x 12 columns]"
      ]
     },
     "execution_count": 40,
     "metadata": {},
     "output_type": "execute_result"
    }
   ],
   "source": [
    "ratingX3"
   ]
  },
  {
   "cell_type": "code",
   "execution_count": 35,
   "metadata": {},
   "outputs": [
    {
     "data": {
      "text/html": [
       "<div>\n",
       "<style scoped>\n",
       "    .dataframe tbody tr th:only-of-type {\n",
       "        vertical-align: middle;\n",
       "    }\n",
       "\n",
       "    .dataframe tbody tr th {\n",
       "        vertical-align: top;\n",
       "    }\n",
       "\n",
       "    .dataframe thead th {\n",
       "        text-align: right;\n",
       "    }\n",
       "</style>\n",
       "<table border=\"1\" class=\"dataframe\">\n",
       "  <thead>\n",
       "    <tr style=\"text-align: right;\">\n",
       "      <th></th>\n",
       "      <th>orginalISBN</th>\n",
       "      <th>newISBN</th>\n",
       "    </tr>\n",
       "  </thead>\n",
       "  <tbody>\n",
       "    <tr>\n",
       "      <th>0</th>\n",
       "      <td>34545104</td>\n",
       "      <td>1</td>\n",
       "    </tr>\n",
       "    <tr>\n",
       "      <th>1</th>\n",
       "      <td>446520802</td>\n",
       "      <td>2</td>\n",
       "    </tr>\n",
       "    <tr>\n",
       "      <th>2</th>\n",
       "      <td>38550120</td>\n",
       "      <td>3</td>\n",
       "    </tr>\n",
       "    <tr>\n",
       "      <th>3</th>\n",
       "      <td>425115801</td>\n",
       "      <td>4</td>\n",
       "    </tr>\n",
       "    <tr>\n",
       "      <th>4</th>\n",
       "      <td>449006522</td>\n",
       "      <td>5</td>\n",
       "    </tr>\n",
       "    <tr>\n",
       "      <th>...</th>\n",
       "      <td>...</td>\n",
       "      <td>...</td>\n",
       "    </tr>\n",
       "    <tr>\n",
       "      <th>11679</th>\n",
       "      <td>963517716</td>\n",
       "      <td>11680</td>\n",
       "    </tr>\n",
       "    <tr>\n",
       "      <th>11680</th>\n",
       "      <td>79226620</td>\n",
       "      <td>11681</td>\n",
       "    </tr>\n",
       "    <tr>\n",
       "      <th>11681</th>\n",
       "      <td>1861052928</td>\n",
       "      <td>11682</td>\n",
       "    </tr>\n",
       "    <tr>\n",
       "      <th>11682</th>\n",
       "      <td>1931561206</td>\n",
       "      <td>11683</td>\n",
       "    </tr>\n",
       "    <tr>\n",
       "      <th>11683</th>\n",
       "      <td>8401322677</td>\n",
       "      <td>11684</td>\n",
       "    </tr>\n",
       "  </tbody>\n",
       "</table>\n",
       "<p>11684 rows × 2 columns</p>\n",
       "</div>"
      ],
      "text/plain": [
       "       orginalISBN  newISBN\n",
       "0         34545104        1\n",
       "1        446520802        2\n",
       "2         38550120        3\n",
       "3        425115801        4\n",
       "4        449006522        5\n",
       "...            ...      ...\n",
       "11679    963517716    11680\n",
       "11680     79226620    11681\n",
       "11681   1861052928    11682\n",
       "11682   1931561206    11683\n",
       "11683   8401322677    11684\n",
       "\n",
       "[11684 rows x 2 columns]"
      ]
     },
     "execution_count": 35,
     "metadata": {},
     "output_type": "execute_result"
    }
   ],
   "source": [
    "booksDF\n"
   ]
  },
  {
   "cell_type": "code",
   "execution_count": 41,
   "metadata": {},
   "outputs": [],
   "source": [
    "n_users = ratingX3['UserID'].unique().shape[0]\n",
    "n_books = ratingX3['ISBN'].unique().shape[0]\n",
    "n_ratings = len(ratingX3)\n",
    "avg_ratings_per_user = n_ratings/n_users"
   ]
  },
  {
   "cell_type": "code",
   "execution_count": 42,
   "metadata": {},
   "outputs": [
    {
     "name": "stdout",
     "output_type": "stream",
     "text": [
      "Number of unique users 1200\n",
      "Number of unique books 11684\n",
      "Total number of ratings 14181\n",
      "Average number of ratings per user 11.8175\n"
     ]
    }
   ],
   "source": [
    "print('Number of unique users', n_users)\n",
    "print('Number of unique books', n_books)\n",
    "print('Total number of ratings', n_ratings)\n",
    "print('Average number of ratings per user', avg_ratings_per_user)"
   ]
  },
  {
   "cell_type": "markdown",
   "metadata": {},
   "source": [
    "## Creating a test set and validation set with a 5% holdout data set "
   ]
  },
  {
   "cell_type": "code",
   "execution_count": 43,
   "metadata": {},
   "outputs": [],
   "source": [
    "X_train, X_test = train_test_split(ratingX3, test_size=0.1, shuffle=True, random_state=88)\n",
    "X_validation, X_test = train_test_split(X_test, test_size=0.5, shuffle=True, random_state=88)"
   ]
  },
  {
   "cell_type": "code",
   "execution_count": 44,
   "metadata": {},
   "outputs": [
    {
     "name": "stdout",
     "output_type": "stream",
     "text": [
      "Size of train set 12762\n",
      "Size of validation 709\n",
      "Size of test set 710\n"
     ]
    }
   ],
   "source": [
    "print('Size of train set', len(X_train))\n",
    "print('Size of validation', len(X_validation))\n",
    "print('Size of test set', len(X_test))"
   ]
  },
  {
   "cell_type": "markdown",
   "metadata": {},
   "source": [
    "## One Latent Factor - Matrix Factorization optimzed with Adam to minimize mean_squared_error"
   ]
  },
  {
   "cell_type": "code",
   "execution_count": 34,
   "metadata": {},
   "outputs": [],
   "source": [
    "#n_latent_factors = 1\n",
    "#user_input = Input(shape=[1], name='User-ID')\n",
    "#user_embedding = Embedding(input_dim=n_users + 1, output_dim=n_latent_factors, name='user_embedding')(user_input)\n",
    "#user_vec = Flatten(name='Flatten_users')(user_embedding)\n",
    "\n",
    "#book_input = Input(shape=[1], name='ISBN')\n",
    "#book_embedding = Embedding(input_dim=n_books + 1, output_dim=n_latent_factors, name='book_embedding')(book_input)\n",
    "#book_vec = Flatten(name='Flatten_book')(book_embedding)\n",
    "\n",
    "#product = dot([book_vec, user_vec], axes=1)\n",
    "#model = Model(inputs=[user_input, book_input], outputs=product)\n",
    "#model.compile('adam', 'mean_squared_error')"
   ]
  },
  {
   "cell_type": "markdown",
   "metadata": {},
   "source": [
    "## Using Restricted Boltzmann Machines to build recommendation system"
   ]
  },
  {
   "cell_type": "code",
   "execution_count": 51,
   "metadata": {},
   "outputs": [],
   "source": [
    "class RBM(object):\n",
    "    \n",
    "    def __init__(self, input_size, output_size,\n",
    "                learning_rate, epochs, batchsize):\n",
    "        \n",
    "        self.__input_size = input_size\n",
    "        self.__output_size = out_size\n",
    "        self.learning_rate =  learning_rate\n",
    "        self.epochs = epochs\n",
    "        self.batchsize = batchsize\n",
    "        \n",
    "        self.w = np.zeros([input_size, output_size], \"float\")\n",
    "        self.hb = np.zeros([output_size], \"float\")\n",
    "        self.vb = np.zeros([input_size], \"float\")\n"
   ]
  },
  {
   "cell_type": "code",
   "execution_count": 1,
   "metadata": {},
   "outputs": [
    {
     "ename": "NameError",
     "evalue": "name 'tf' is not defined",
     "output_type": "error",
     "traceback": [
      "\u001b[1;31m---------------------------------------------------------------------------\u001b[0m",
      "\u001b[1;31mNameError\u001b[0m                                 Traceback (most recent call last)",
      "\u001b[1;32m<ipython-input-1-2366284bcbdf>\u001b[0m in \u001b[0;36m<module>\u001b[1;34m\u001b[0m\n\u001b[0;32m     37\u001b[0m \u001b[1;33m\u001b[0m\u001b[0m\n\u001b[0;32m     38\u001b[0m \u001b[1;33m\u001b[0m\u001b[0m\n\u001b[1;32m---> 39\u001b[1;33m \u001b[1;32mwith\u001b[0m \u001b[0mtf\u001b[0m\u001b[1;33m.\u001b[0m\u001b[0mSession\u001b[0m\u001b[1;33m(\u001b[0m\u001b[1;33m)\u001b[0m \u001b[1;32mas\u001b[0m \u001b[0msess\u001b[0m\u001b[1;33m:\u001b[0m\u001b[1;33m\u001b[0m\u001b[1;33m\u001b[0m\u001b[0m\n\u001b[0m\u001b[0;32m     40\u001b[0m     \u001b[0msess\u001b[0m\u001b[1;33m.\u001b[0m\u001b[0mrun\u001b[0m\u001b[1;33m(\u001b[0m\u001b[0mtf\u001b[0m\u001b[1;33m.\u001b[0m\u001b[0mglobal_variables_initializer\u001b[0m\u001b[1;33m(\u001b[0m\u001b[1;33m)\u001b[0m\u001b[1;33m)\u001b[0m\u001b[1;33m\u001b[0m\u001b[1;33m\u001b[0m\u001b[0m\n\u001b[0;32m     41\u001b[0m \u001b[1;33m\u001b[0m\u001b[0m\n",
      "\u001b[1;31mNameError\u001b[0m: name 'tf' is not defined"
     ]
    }
   ],
   "source": [
    "    def prob_h_given_v(self, visible, w, hb):\n",
    "        return tf.nn.sigmoid(tf.matmul(visible, w) + hb)\n",
    "\n",
    "    def prob_v_given_h(self, hidden, w, vb):\n",
    "        return tf.nn.sigmoid(tf.matul(hidden, tf.transpose(w)) + vb)\n",
    "\n",
    "    def sample_prob(self, probs):\n",
    "        return tf.nn.relu(tf.sign(probs - tr.random_uniform(tf.shape(probs))))\n",
    "\n",
    "        _w = tf.placeholder(\"float\", [self._input_size, self._output_size])\n",
    "        _hp = tf.placeholder(\"float\",[self._output_size])\n",
    "        _vp = tf.placeholder(\"float\", [self._input_size])\n",
    "\n",
    "        prv_w = np.zeros([self._input_size, self._output_size], \"float\")\n",
    "        prv_hb = np.zeros([self._output_size], \"float\")\n",
    "        prv_vb = np.zeros([self._input_size], \"float\")\n",
    "\n",
    "        cur_w = np.zeros([self._input_size, self._output_size], \"float\")\n",
    "        cur_hb = np.zeros([self._output_size], \"float\")\n",
    "        cur_vb = np.zeros([self._input_size], \"float\")\n",
    "\n",
    "        v0 = tf.placeholder(\"float\", [None, self._input_size])\n",
    "        h0 = self.sample_prob(self.prob_h_given_v(v0. _w, _hb))\n",
    "\n",
    "        v1 = self.sample_prob(self.prob_v_given_h(h0, _w, _vb))\n",
    "        h1 = self.prob_h_given_v(v1, _w, _hb)\n",
    "\n",
    "        postive_grad = tf.matmul(tf.transpose(v0), h0)\n",
    "        negative_grad = tf.matmul(tf.transpose(v1), h1)\n",
    "\n",
    "        update_w = _w + self.learning_rate * \\\n",
    "            (postive_grad - negative_grad) / tf.to_float(tf.shape(v0)[0])\n",
    "        update_vb = _vb + self.learing_rate * tf.reduce_mean(v0 - v1, 0)\n",
    "        update_hb = _hb + self.learing_rate * tf.reduce_mean(h0 - h1, 0)\n",
    "\n",
    "        err = tf.reduce_mean(tf.square(v0 - v1))\n",
    "        \n",
    "        \n",
    "    with tf.Session() as sess:\n",
    "        sess.run(tf.global_variables_initializer())\n",
    "    \n",
    "        for epoch in range(self.epochs):\n",
    "            for start, end in zip(range(0, len(x), self.batchsize), range(self.batchsize,len(x), self.batchsize)):\n",
    "                batch = X[start:end]\n",
    "                cur_w = sess.run(update_w, feed_dict={v0: batch, _w: prv_w, _hb: prv_hb, _vb: prv_vb})\n",
    "                cur_hb = sess.run(update_hb, feed_dict={v0: batch, _w: prv_w, _hb: prv_hb, _vb: prv_vb})\n",
    "                cur_vb = sess.run(update_vb, feed_dict={v0: batch, _w: prv_w, _hb: prv_hb, _vb: prv_vb})\n",
    "                prv_w = cur_w\n",
    "                prv_hb = cur_hb\n",
    "                prv_vb = cur_vb\n",
    "            error = sess.run(err, feed_dict={v0: X, _w: cur_w, _vb: cur_vb, _hb: cur_hb})\n",
    "            print ('Epoch: %d' % epoch, 'reconstruction error: %f' % error )\n",
    "        self.w = prv_w\n",
    "        self.hb = prv_hb\n",
    "        self.vb = prv_vb"
   ]
  },
  {
   "cell_type": "markdown",
   "metadata": {},
   "source": [
    "### Training "
   ]
  },
  {
   "cell_type": "code",
   "execution_count": null,
   "metadata": {},
   "outputs": [],
   "source": [
    "ratings_train = np.zeros((n_users, n_books)"
   ]
  },
  {
   "cell_type": "code",
   "execution_count": null,
   "metadata": {},
   "outputs": [],
   "source": [
    "    inputX = ratings_train\n",
    "    inputX = inputX.astype(np.Float32)\n",
    "    \n",
    "    rbm=RBM(1000,100,0.3,500,200)"
   ]
  },
  {
   "cell_type": "code",
   "execution_count": 50,
   "metadata": {},
   "outputs": [
    {
     "ename": "NameError",
     "evalue": "name 'rbm' is not defined",
     "output_type": "error",
     "traceback": [
      "\u001b[1;31m---------------------------------------------------------------------------\u001b[0m",
      "\u001b[1;31mNameError\u001b[0m                                 Traceback (most recent call last)",
      "\u001b[1;32m<ipython-input-50-01bd3375a337>\u001b[0m in \u001b[0;36m<module>\u001b[1;34m\u001b[0m\n\u001b[1;32m----> 1\u001b[1;33m \u001b[0mrbm\u001b[0m\u001b[1;33m.\u001b[0m\u001b[0mtrain\u001b[0m\u001b[1;33m(\u001b[0m\u001b[0minputX\u001b[0m\u001b[1;33m)\u001b[0m\u001b[1;33m\u001b[0m\u001b[1;33m\u001b[0m\u001b[0m\n\u001b[0m\u001b[0;32m      2\u001b[0m \u001b[0moutputX\u001b[0m\u001b[1;33m,\u001b[0m \u001b[0mreconstructedX\u001b[0m\u001b[1;33m,\u001b[0m \u001b[0mhiddenX\u001b[0m \u001b[1;33m=\u001b[0m \u001b[0mrbm\u001b[0m\u001b[1;33m.\u001b[0m\u001b[0mrbm_output\u001b[0m\u001b[1;33m(\u001b[0m\u001b[0minputX\u001b[0m\u001b[1;33m)\u001b[0m\u001b[1;33m\u001b[0m\u001b[1;33m\u001b[0m\u001b[0m\n",
      "\u001b[1;31mNameError\u001b[0m: name 'rbm' is not defined"
     ]
    }
   ],
   "source": [
    "    rbm.train(inputX)\n",
    "    outputX, reconstructedX, hiddenX = rbm.rbm_output(inputX)"
   ]
  },
  {
   "cell_type": "markdown",
   "metadata": {},
   "source": [
    "### Validation "
   ]
  }
 ],
 "metadata": {
  "kernelspec": {
   "display_name": "Python 3",
   "language": "python",
   "name": "python3"
  },
  "language_info": {
   "codemirror_mode": {
    "name": "ipython",
    "version": 3
   },
   "file_extension": ".py",
   "mimetype": "text/x-python",
   "name": "python",
   "nbconvert_exporter": "python",
   "pygments_lexer": "ipython3",
   "version": "3.7.7"
  }
 },
 "nbformat": 4,
 "nbformat_minor": 4
}
